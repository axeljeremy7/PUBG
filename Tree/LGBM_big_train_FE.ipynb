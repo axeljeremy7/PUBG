{
 "cells": [
  {
   "cell_type": "code",
   "execution_count": 1,
   "metadata": {},
   "outputs": [],
   "source": [
    "import gc\n",
    "import time\n",
    "import numpy as np\n",
    "import pandas as pd\n",
    "import matplotlib.pyplot as plt\n",
    "import seaborn as sns\n",
    "import random\n",
    "import datetime\n",
    "random.seed(7)\n",
    "from sklearn.metrics import mean_absolute_error"
   ]
  },
  {
   "cell_type": "code",
   "execution_count": 2,
   "metadata": {},
   "outputs": [
    {
     "name": "stdout",
     "output_type": "stream",
     "text": [
      "12:16:00.325009\n",
      "12:16:00.325284\n",
      "9.4e-05s\n"
     ]
    }
   ],
   "source": [
    "def ptime():\n",
    "    print(datetime.datetime.now().time())\n",
    "    return time.time()\n",
    "start = ptime()\n",
    "execution_time = ptime() - start\n",
    "def ptime2(execution_time):\n",
    "    print(f'{round(execution_time, 6)}s')\n",
    "ptime2(execution_time)"
   ]
  },
  {
   "cell_type": "code",
   "execution_count": 3,
   "metadata": {},
   "outputs": [],
   "source": [
    "def read_dataset(path):\n",
    "    start = ptime()\n",
    "    gc.collect()\n",
    "    df = pd.read_csv(path)#change\n",
    "    print(df.shape)\n",
    "    df = df.dropna()\n",
    "    print(df.shape)\n",
    "    execution_time = ptime() - start\n",
    "    ptime2(execution_time)\n",
    "    return df"
   ]
  },
  {
   "cell_type": "code",
   "execution_count": 4,
   "metadata": {},
   "outputs": [],
   "source": [
    "def reduce_mem_usage(df):\n",
    "    start = ptime()\n",
    "    start_mem = df.memory_usage().sum() / 1024**2\n",
    "    print('Memory usage of dataframe is {:.6f} MB'.format(start_mem))\n",
    "    \n",
    "    cols_to_drop = ['Id', 'groupId', 'matchId', 'winPlacePerc']\n",
    "    features = [col for col in df.columns if col not in cols_to_drop]\n",
    "    for col in features:\n",
    "        col_type = df[col].dtype\n",
    "\n",
    "        if col_type != object:\n",
    "            c_min = df[col].min()\n",
    "            c_max = df[col].max()\n",
    "            if str(col_type)[:3] == 'int':\n",
    "                if c_min > np.iinfo(np.int8).min and c_max < np.iinfo(np.int8).max:\n",
    "                    df[col] = df[col].astype(np.int8)\n",
    "                elif c_min > np.iinfo(np.int16).min and c_max < np.iinfo(np.int16).max:\n",
    "                    df[col] = df[col].astype(np.int16)\n",
    "                elif c_min > np.iinfo(np.int32).min and c_max < np.iinfo(np.int32).max:\n",
    "                    df[col] = df[col].astype(np.int32)\n",
    "                elif c_min > np.iinfo(np.int64).min and c_max < np.iinfo(np.int64).max:\n",
    "                    df[col] = df[col].astype(np.int64)  \n",
    "            else:\n",
    "                if c_min > np.finfo(np.float16).min and c_max < np.finfo(np.float16).max:\n",
    "                    df[col] = df[col].astype(np.float16)\n",
    "                elif c_min > np.finfo(np.float32).min and c_max < np.finfo(np.float32).max:\n",
    "                    df[col] = df[col].astype(np.float32)\n",
    "                else:\n",
    "                    df[col] = df[col].astype(np.float64)\n",
    "    \n",
    "    execution_time = ptime() - start\n",
    "    ptime2(execution_time)\n",
    "    end_mem = df.memory_usage().sum() / 1024**2\n",
    "    print('Memory usage after optimization is: {:.6f} MB'.format(end_mem))\n",
    "    print('Decreased by {:.1f}%'.format(100 * (start_mem - end_mem) / start_mem))\n",
    "    return df"
   ]
  },
  {
   "cell_type": "code",
   "execution_count": 5,
   "metadata": {},
   "outputs": [],
   "source": [
    "def mae(X_to_test, y_to_test, model_to_test):\n",
    "    start = ptime()\n",
    "    y_pred_test = model_to_test.predict(X_to_test)\n",
    "    mae =  mean_absolute_error(y_to_test, y_pred_test)\n",
    "    execution_time = ptime() - start\n",
    "    ptime2(execution_time)\n",
    "    return mae"
   ]
  },
  {
   "cell_type": "code",
   "execution_count": 6,
   "metadata": {},
   "outputs": [
    {
     "name": "stdout",
     "output_type": "stream",
     "text": [
      "12:16:10.174148\n",
      "(4446965, 37)\n",
      "(4446965, 37)\n",
      "12:16:40.049640\n",
      "29.87545s\n"
     ]
    }
   ],
   "source": [
    "df = read_dataset('../data/train_FE.csv')"
   ]
  },
  {
   "cell_type": "code",
   "execution_count": 7,
   "metadata": {},
   "outputs": [
    {
     "name": "stdout",
     "output_type": "stream",
     "text": [
      "12:16:50.644944\n",
      "Memory usage of dataframe is 1289.250717 MB\n",
      "12:16:56.556252\n",
      "5.911566s\n",
      "Memory usage after optimization is: 407.131805 MB\n",
      "Decreased by 68.4%\n"
     ]
    },
    {
     "data": {
      "text/plain": [
       "(4446965, 37)"
      ]
     },
     "execution_count": 7,
     "metadata": {},
     "output_type": "execute_result"
    }
   ],
   "source": [
    "df = reduce_mem_usage(df)\n",
    "df.shape"
   ]
  },
  {
   "cell_type": "code",
   "execution_count": 8,
   "metadata": {},
   "outputs": [],
   "source": [
    "from sklearn.model_selection import train_test_split"
   ]
  },
  {
   "cell_type": "code",
   "execution_count": 9,
   "metadata": {},
   "outputs": [
    {
     "name": "stdout",
     "output_type": "stream",
     "text": [
      "(4446965, 32)\n",
      "(4446965,)\n"
     ]
    }
   ],
   "source": [
    "target = 'winPlacePerc'\n",
    "cols_to_drop = ['Id', 'groupId', 'matchId', 'matchType',target]\n",
    "cols_to_fit = [col for col in df.columns if col not in cols_to_drop]\n",
    "\n",
    "# Separating X and y\n",
    "X = df[cols_to_fit].values\n",
    "y = df['winPlacePerc'].values\n",
    "# y = np.array(y).reshape(-1,1)\n",
    "print(X.shape)\n",
    "print(y.shape)"
   ]
  },
  {
   "cell_type": "code",
   "execution_count": 10,
   "metadata": {},
   "outputs": [],
   "source": [
    "X_train, X_test, y_train, y_test = train_test_split(X, y, test_size = 0.1, random_state = 7)"
   ]
  },
  {
   "cell_type": "code",
   "execution_count": 11,
   "metadata": {},
   "outputs": [
    {
     "name": "stderr",
     "output_type": "stream",
     "text": [
      "/Users/axeljeremy/anaconda3/lib/python3.6/site-packages/lightgbm/__init__.py:46: UserWarning: Starting from version 2.2.1, the library file in distribution wheels for macOS is built by the Apple Clang (Xcode_9.4.1) compiler.\n",
      "This means that in case of installing LightGBM from PyPI via the ``pip install lightgbm`` command, you don't need to install the gcc compiler anymore.\n",
      "Instead of that, you need to install the OpenMP library, which is required for running LightGBM on the system with the Apple Clang compiler.\n",
      "You can install the OpenMP library by the following command: ``brew install libomp``.\n",
      "  \"You can install the OpenMP library by the following command: ``brew install libomp``.\", UserWarning)\n"
     ]
    }
   ],
   "source": [
    "from lightgbm import LGBMRegressor"
   ]
  },
  {
   "cell_type": "code",
   "execution_count": 20,
   "metadata": {},
   "outputs": [
    {
     "data": {
      "image/png": "[encoded data removed]",
      "text/plain": [
       "<Figure size 720x432 with 1 Axes>"
      ]
     },
     "metadata": {
      "needs_background": "light"
     },
     "output_type": "display_data"
    }
   ],
   "source": [
    "feature_importance = pd.DataFrame(sorted(zip(model_x1.feature_importances_, cols_to_fit)), columns=['Value','Feature'])\n",
    "plt.figure(figsize=(10, 6))\n",
    "sns.barplot(x=\"Value\", y=\"Feature\", data=feature_importance.sort_values(by=\"Value\", ascending=False))\n",
    "plt.title('LightGBM Features No matchType - FE - model_x1')\n",
    "plt.tight_layout()"
   ]
  },
  {
   "cell_type": "code",
   "execution_count": 14,
   "metadata": {},
   "outputs": [
    {
     "name": "stdout",
     "output_type": "stream",
     "text": [
      "12:20:55.245098\n",
      "12:20:56.862630\n",
      "1.61771s\n",
      "0.05775875724021125\n"
     ]
    }
   ],
   "source": [
    "mae_x1_test = mae(X_to_test=X_test, y_to_test=y_test,model_to_test=model_x1_1 )\n",
    "print(mae_x1_test)"
   ]
  },
  {
   "cell_type": "code",
   "execution_count": null,
   "metadata": {},
   "outputs": [],
   "source": [
    " params2 = {\n",
    "    'n_estimators': 32000,\n",
    "    'learning_rate': 0.01, \n",
    "    'num_leaves': 33,\n",
    "    'objective': 'regression_l2', \n",
    "    'metric': 'mae',\n",
    "    'verbose': -1,\n",
    "}\n",
    "start = ptime()\n",
    "model_x1_2 = LGBMRegressor(**params2)\n",
    "model_x1_2.fit(\n",
    "    X_train, y_train,\n",
    "    eval_set=[(X_test, y_test)],\n",
    "    eval_metric='mae',\n",
    "    verbose=1000,\n",
    ")\n",
    "execution_time = ptime() - start\n",
    "ptime2(execution_time)"
   ]
  },
  {
   "cell_type": "code",
   "execution_count": 12,
   "metadata": {},
   "outputs": [
    {
     "name": "stdout",
     "output_type": "stream",
     "text": [
      "04:53:28.122016\n",
      "[1000]\tvalid_0's l1: 0.0567501\n",
      "[2000]\tvalid_0's l1: 0.0562903\n",
      "[3000]\tvalid_0's l1: 0.0560868\n",
      "[4000]\tvalid_0's l1: 0.0559488\n",
      "[5000]\tvalid_0's l1: 0.0558744\n",
      "[6000]\tvalid_0's l1: 0.055816\n",
      "[7000]\tvalid_0's l1: 0.0557962\n",
      "[8000]\tvalid_0's l1: 0.055781\n",
      "[9000]\tvalid_0's l1: 0.0557538\n",
      "[10000]\tvalid_0's l1: 0.055734\n",
      "05:23:12.961888\n",
      "1784.839796s\n",
      "05:23:12.962250\n",
      "[1000]\tvalid_0's l1: 0.059795\n",
      "[2000]\tvalid_0's l1: 0.0583179\n",
      "[3000]\tvalid_0's l1: 0.0578583\n",
      "[4000]\tvalid_0's l1: 0.0575921\n",
      "[5000]\tvalid_0's l1: 0.0574225\n",
      "[6000]\tvalid_0's l1: 0.0572831\n",
      "[7000]\tvalid_0's l1: 0.0571788\n",
      "[8000]\tvalid_0's l1: 0.0570767\n",
      "[9000]\tvalid_0's l1: 0.0569928\n",
      "[10000]\tvalid_0's l1: 0.0569089\n",
      "[11000]\tvalid_0's l1: 0.056846\n",
      "[12000]\tvalid_0's l1: 0.0567866\n",
      "[13000]\tvalid_0's l1: 0.0567323\n",
      "[14000]\tvalid_0's l1: 0.056679\n",
      "[15000]\tvalid_0's l1: 0.0566261\n",
      "[16000]\tvalid_0's l1: 0.0565782\n",
      "[17000]\tvalid_0's l1: 0.0565316\n",
      "[18000]\tvalid_0's l1: 0.0564852\n",
      "[19000]\tvalid_0's l1: 0.0564407\n",
      "[20000]\tvalid_0's l1: 0.0563986\n",
      "[21000]\tvalid_0's l1: 0.0563611\n",
      "[22000]\tvalid_0's l1: 0.0563303\n",
      "[23000]\tvalid_0's l1: 0.0562911\n",
      "[24000]\tvalid_0's l1: 0.0562549\n",
      "[25000]\tvalid_0's l1: 0.0562215\n",
      "[26000]\tvalid_0's l1: 0.0561952\n",
      "[27000]\tvalid_0's l1: 0.0561732\n",
      "[28000]\tvalid_0's l1: 0.0561478\n",
      "[29000]\tvalid_0's l1: 0.0561232\n",
      "[30000]\tvalid_0's l1: 0.0560901\n",
      "[31000]\tvalid_0's l1: 0.0560569\n",
      "[32000]\tvalid_0's l1: 0.0560251\n",
      "06:30:30.831804\n",
      "4037.869625s\n"
     ]
    }
   ],
   "source": [
    "params = {\n",
    "    'n_estimators': 10000,\n",
    "    'learning_rate': 0.3, \n",
    "    'num_leaves': 33,\n",
    "    'objective': 'regression_l2', \n",
    "    'metric': 'mae',\n",
    "    'verbose': -1,\n",
    "}\n",
    "start = ptime()\n",
    "model_x1 = LGBMRegressor(**params)\n",
    "model_x1.fit(\n",
    "    X_train, y_train,\n",
    "    eval_set=[(X_test, y_test)],\n",
    "    eval_metric='mae',\n",
    "    verbose=1000,\n",
    ")\n",
    "execution_time = ptime() - start\n",
    "ptime2(execution_time)\n",
    "\n",
    "params2 = {\n",
    "    'n_estimators': 32000,\n",
    "    'learning_rate': 0.01, \n",
    "    'num_leaves': 33,\n",
    "    'objective': 'regression_l2', \n",
    "    'metric': 'mae',\n",
    "    'verbose': -1,\n",
    "}\n",
    "start = ptime()\n",
    "model_x1_2 = LGBMRegressor(**params2)\n",
    "model_x1_2.fit(\n",
    "    X_train, y_train,\n",
    "    eval_set=[(X_test, y_test)],\n",
    "    eval_metric='mae',\n",
    "    verbose=1000,\n",
    ")\n",
    "execution_time = ptime() - start\n",
    "ptime2(execution_time)\n"
   ]
  },
  {
   "cell_type": "code",
   "execution_count": null,
   "metadata": {},
   "outputs": [
    {
     "name": "stdout",
     "output_type": "stream",
     "text": [
      "12:03:03.921070\n"
     ]
    }
   ],
   "source": [
    "mae_x1_train = mae(X_to_test=X_train, y_to_test= y_train,model_to_test=model_x1)\n",
    "print(mae_x1_train)"
   ]
  },
  {
   "cell_type": "code",
   "execution_count": null,
   "metadata": {},
   "outputs": [],
   "source": [
    "mae_x1_test = mae(X_to_test=X_test, y_to_test=y_test,model_to_test=model_x1 )\n",
    "print(mae_x1_test)"
   ]
  },
  {
   "cell_type": "code",
   "execution_count": null,
   "metadata": {},
   "outputs": [],
   "source": [
    "feature_importance = pd.DataFrame(sorted(zip(model_x1.feature_importances_, cols_to_fit)), columns=['Value','Feature'])\n",
    "plt.figure(figsize=(10, 6))\n",
    "sns.barplot(x=\"Value\", y=\"Feature\", data=feature_importance.sort_values(by=\"Value\", ascending=False))\n",
    "plt.title('LightGBM Features No matchType - FE - model_x1')\n",
    "plt.tight_layout()"
   ]
  },
  {
   "cell_type": "code",
   "execution_count": null,
   "metadata": {},
   "outputs": [],
   "source": []
  }
 ],
 "metadata": {
  "kernelspec": {
   "display_name": "Python 3",
   "language": "python",
   "name": "python3"
  },
  "language_info": {
   "codemirror_mode": {
    "name": "ipython",
    "version": 3
   },
   "file_extension": ".py",
   "mimetype": "text/x-python",
   "name": "python",
   "nbconvert_exporter": "python",
   "pygments_lexer": "ipython3",
   "version": "3.6.6"
  }
 },
 "nbformat": 4,
 "nbformat_minor": 2
}
