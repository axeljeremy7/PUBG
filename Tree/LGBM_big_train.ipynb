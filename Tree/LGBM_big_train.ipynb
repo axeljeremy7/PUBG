{
 "cells": [
  {
   "cell_type": "code",
   "execution_count": 20,
   "metadata": {},
   "outputs": [],
   "source": [
    "import gc\n",
    "import time\n",
    "import numpy as np\n",
    "import pandas as pd\n",
    "import matplotlib.pyplot as plt\n",
    "import seaborn as sns\n",
    "import random\n",
    "import datetime\n",
    "random.seed(7)\n",
    "from sklearn.metrics import mean_absolute_error"
   ]
  },
  {
   "cell_type": "code",
   "execution_count": 2,
   "metadata": {},
   "outputs": [
    {
     "name": "stdout",
     "output_type": "stream",
     "text": [
      "02:28:16.380419\n",
      "02:28:16.380829\n",
      "0.000159s\n"
     ]
    }
   ],
   "source": [
    "def ptime():\n",
    "    print(datetime.datetime.now().time())\n",
    "    return time.time()\n",
    "start = ptime()\n",
    "execution_time = ptime() - start\n",
    "def ptime2(execution_time):\n",
    "    print(f'{round(execution_time, 6)}s')\n",
    "ptime2(execution_time)"
   ]
  },
  {
   "cell_type": "code",
   "execution_count": 10,
   "metadata": {},
   "outputs": [],
   "source": [
    "def read_dataset(path):\n",
    "    start = ptime()\n",
    "    gc.collect()\n",
    "    df = pd.read_csv(path)#change\n",
    "    print(df.shape)\n",
    "    df = df.dropna()\n",
    "    print(df.shape)\n",
    "    execution_time = ptime() - start\n",
    "    ptime2(execution_time)\n",
    "    return df"
   ]
  },
  {
   "cell_type": "code",
   "execution_count": 4,
   "metadata": {},
   "outputs": [],
   "source": [
    "def reduce_mem_usage(df):\n",
    "    start = ptime()\n",
    "    start_mem = df.memory_usage().sum() / 1024**2\n",
    "    print('Memory usage of dataframe is {:.6f} MB'.format(start_mem))\n",
    "    \n",
    "    cols_to_drop = ['Id', 'groupId', 'matchId', 'winPlacePerc']\n",
    "    features = [col for col in df.columns if col not in cols_to_drop]\n",
    "    for col in features:\n",
    "        col_type = df[col].dtype\n",
    "\n",
    "        if col_type != object:\n",
    "            c_min = df[col].min()\n",
    "            c_max = df[col].max()\n",
    "            if str(col_type)[:3] == 'int':\n",
    "                if c_min > np.iinfo(np.int8).min and c_max < np.iinfo(np.int8).max:\n",
    "                    df[col] = df[col].astype(np.int8)\n",
    "                elif c_min > np.iinfo(np.int16).min and c_max < np.iinfo(np.int16).max:\n",
    "                    df[col] = df[col].astype(np.int16)\n",
    "                elif c_min > np.iinfo(np.int32).min and c_max < np.iinfo(np.int32).max:\n",
    "                    df[col] = df[col].astype(np.int32)\n",
    "                elif c_min > np.iinfo(np.int64).min and c_max < np.iinfo(np.int64).max:\n",
    "                    df[col] = df[col].astype(np.int64)  \n",
    "            else:\n",
    "                if c_min > np.finfo(np.float16).min and c_max < np.finfo(np.float16).max:\n",
    "                    df[col] = df[col].astype(np.float16)\n",
    "                elif c_min > np.finfo(np.float32).min and c_max < np.finfo(np.float32).max:\n",
    "                    df[col] = df[col].astype(np.float32)\n",
    "                else:\n",
    "                    df[col] = df[col].astype(np.float64)\n",
    "    \n",
    "    execution_time = ptime() - start\n",
    "    ptime2(execution_time)\n",
    "    end_mem = df.memory_usage().sum() / 1024**2\n",
    "    print('Memory usage after optimization is: {:.6f} MB'.format(end_mem))\n",
    "    print('Decreased by {:.1f}%'.format(100 * (start_mem - end_mem) / start_mem))\n",
    "    return df"
   ]
  },
  {
   "cell_type": "code",
   "execution_count": 5,
   "metadata": {},
   "outputs": [],
   "source": [
    "def mae(X_to_test, y_to_test, model_to_test):\n",
    "    start = ptime()\n",
    "    y_pred_test = model_to_test.predict(X_to_test)\n",
    "    mae =  mean_absolute_error(y_to_test, y_pred_test)\n",
    "    execution_time = ptime() - start\n",
    "    ptime2(execution_time)\n",
    "    return mae"
   ]
  },
  {
   "cell_type": "code",
   "execution_count": 8,
   "metadata": {},
   "outputs": [
    {
     "data": {
      "text/plain": [
       "14"
      ]
     },
     "execution_count": 8,
     "metadata": {},
     "output_type": "execute_result"
    }
   ],
   "source": [
    "del df\n",
    "gc.collect()"
   ]
  },
  {
   "cell_type": "code",
   "execution_count": 11,
   "metadata": {},
   "outputs": [
    {
     "name": "stdout",
     "output_type": "stream",
     "text": [
      "02:31:57.391394\n",
      "(4446966, 29)\n",
      "(4446965, 29)\n",
      "02:32:23.132496\n",
      "25.741047s\n"
     ]
    }
   ],
   "source": [
    "df = read_dataset('../data/train_V2.csv')"
   ]
  },
  {
   "cell_type": "code",
   "execution_count": 12,
   "metadata": {},
   "outputs": [
    {
     "name": "stdout",
     "output_type": "stream",
     "text": [
      "02:35:38.802117\n",
      "Memory usage of dataframe is 1017.829514 MB\n",
      "02:35:42.466831\n",
      "3.664383s\n",
      "Memory usage after optimization is: 347.758417 MB\n",
      "Decreased by 65.8%\n"
     ]
    },
    {
     "data": {
      "text/plain": [
       "(4446965, 29)"
      ]
     },
     "execution_count": 12,
     "metadata": {},
     "output_type": "execute_result"
    }
   ],
   "source": [
    "df = reduce_mem_usage(df)\n",
    "df.shape"
   ]
  },
  {
   "cell_type": "markdown",
   "metadata": {},
   "source": [
    "# PART 1 no matchType"
   ]
  },
  {
   "cell_type": "markdown",
   "metadata": {},
   "source": [
    "# Getting X and y"
   ]
  },
  {
   "cell_type": "code",
   "execution_count": 13,
   "metadata": {},
   "outputs": [],
   "source": [
    "from sklearn.model_selection import train_test_split"
   ]
  },
  {
   "cell_type": "code",
   "execution_count": 14,
   "metadata": {},
   "outputs": [
    {
     "name": "stdout",
     "output_type": "stream",
     "text": [
      "(4446965, 24)\n",
      "(4446965,)\n"
     ]
    }
   ],
   "source": [
    "target = 'winPlacePerc'\n",
    "cols_to_drop = ['Id', 'groupId', 'matchId', 'matchType',target]\n",
    "cols_to_fit = [col for col in df.columns if col not in cols_to_drop]\n",
    "\n",
    "# Separating X and y\n",
    "X = df[cols_to_fit].values\n",
    "y = df['winPlacePerc'].values\n",
    "# y = np.array(y).reshape(-1,1)\n",
    "print(X.shape)\n",
    "print(y.shape)"
   ]
  },
  {
   "cell_type": "markdown",
   "metadata": {},
   "source": [
    "# SPLI"
   ]
  },
  {
   "cell_type": "code",
   "execution_count": 15,
   "metadata": {},
   "outputs": [],
   "source": [
    "X_train, X_test, y_train, y_test = train_test_split(X, y, test_size = 0.1, random_state = 7)"
   ]
  },
  {
   "cell_type": "markdown",
   "metadata": {},
   "source": [
    "# FITTING LGBM"
   ]
  },
  {
   "cell_type": "code",
   "execution_count": 16,
   "metadata": {},
   "outputs": [
    {
     "name": "stderr",
     "output_type": "stream",
     "text": [
      "/Users/axeljeremy/anaconda3/lib/python3.6/site-packages/lightgbm/__init__.py:46: UserWarning: Starting from version 2.2.1, the library file in distribution wheels for macOS is built by the Apple Clang (Xcode_9.4.1) compiler.\n",
      "This means that in case of installing LightGBM from PyPI via the ``pip install lightgbm`` command, you don't need to install the gcc compiler anymore.\n",
      "Instead of that, you need to install the OpenMP library, which is required for running LightGBM on the system with the Apple Clang compiler.\n",
      "You can install the OpenMP library by the following command: ``brew install libomp``.\n",
      "  \"You can install the OpenMP library by the following command: ``brew install libomp``.\", UserWarning)\n"
     ]
    }
   ],
   "source": [
    "from lightgbm import LGBMRegressor"
   ]
  },
  {
   "cell_type": "code",
   "execution_count": 46,
   "metadata": {
    "scrolled": true
   },
   "outputs": [
    {
     "name": "stdout",
     "output_type": "stream",
     "text": [
      "03:56:38.694689\n",
      "[1000]\tvalid_0's l1: 0.0566752\n",
      "[2000]\tvalid_0's l1: 0.0561605\n",
      "[3000]\tvalid_0's l1: 0.0558386\n",
      "[4000]\tvalid_0's l1: 0.055657\n",
      "[5000]\tvalid_0's l1: 0.0555315\n",
      "[6000]\tvalid_0's l1: 0.0554666\n",
      "[7000]\tvalid_0's l1: 0.0554036\n",
      "[8000]\tvalid_0's l1: 0.0553378\n",
      "[9000]\tvalid_0's l1: 0.0552892\n",
      "[10000]\tvalid_0's l1: 0.0552818\n",
      "[11000]\tvalid_0's l1: 0.0552736\n",
      "[12000]\tvalid_0's l1: 0.0552794\n",
      "[13000]\tvalid_0's l1: 0.0552938\n",
      "[14000]\tvalid_0's l1: 0.0552977\n",
      "[15000]\tvalid_0's l1: 0.0552906\n",
      "[16000]\tvalid_0's l1: 0.0552693\n",
      "[17000]\tvalid_0's l1: 0.0552812\n"
     ]
    },
    {
     "ename": "KeyboardInterrupt",
     "evalue": "",
     "output_type": "error",
     "traceback": [
      "\u001b[0;31m---------------------------------------------------------------------------\u001b[0m",
      "\u001b[0;31mKeyboardInterrupt\u001b[0m                         Traceback (most recent call last)",
      "\u001b[0;32m<ipython-input-46-1707e708e195>\u001b[0m in \u001b[0;36m<module>\u001b[0;34m\u001b[0m\n\u001b[1;32m     13\u001b[0m     \u001b[0meval_set\u001b[0m\u001b[0;34m=\u001b[0m\u001b[0;34m[\u001b[0m\u001b[0;34m(\u001b[0m\u001b[0mX_test\u001b[0m\u001b[0;34m,\u001b[0m \u001b[0my_test\u001b[0m\u001b[0;34m)\u001b[0m\u001b[0;34m]\u001b[0m\u001b[0;34m,\u001b[0m\u001b[0;34m\u001b[0m\u001b[0m\n\u001b[1;32m     14\u001b[0m     \u001b[0meval_metric\u001b[0m\u001b[0;34m=\u001b[0m\u001b[0;34m'mae'\u001b[0m\u001b[0;34m,\u001b[0m\u001b[0;34m\u001b[0m\u001b[0m\n\u001b[0;32m---> 15\u001b[0;31m     \u001b[0mverbose\u001b[0m\u001b[0;34m=\u001b[0m\u001b[0;36m1000\u001b[0m\u001b[0;34m,\u001b[0m\u001b[0;34m\u001b[0m\u001b[0m\n\u001b[0m\u001b[1;32m     16\u001b[0m )\n\u001b[1;32m     17\u001b[0m \u001b[0mexecution_time\u001b[0m \u001b[0;34m=\u001b[0m \u001b[0mptime\u001b[0m\u001b[0;34m(\u001b[0m\u001b[0;34m)\u001b[0m \u001b[0;34m-\u001b[0m \u001b[0mstart\u001b[0m\u001b[0;34m\u001b[0m\u001b[0m\n",
      "\u001b[0;32m~/anaconda3/lib/python3.6/site-packages/lightgbm/sklearn.py\u001b[0m in \u001b[0;36mfit\u001b[0;34m(self, X, y, sample_weight, init_score, eval_set, eval_names, eval_sample_weight, eval_init_score, eval_metric, early_stopping_rounds, verbose, feature_name, categorical_feature, callbacks)\u001b[0m\n\u001b[1;32m    640\u001b[0m                                        \u001b[0mverbose\u001b[0m\u001b[0;34m=\u001b[0m\u001b[0mverbose\u001b[0m\u001b[0;34m,\u001b[0m \u001b[0mfeature_name\u001b[0m\u001b[0;34m=\u001b[0m\u001b[0mfeature_name\u001b[0m\u001b[0;34m,\u001b[0m\u001b[0;34m\u001b[0m\u001b[0m\n\u001b[1;32m    641\u001b[0m                                        \u001b[0mcategorical_feature\u001b[0m\u001b[0;34m=\u001b[0m\u001b[0mcategorical_feature\u001b[0m\u001b[0;34m,\u001b[0m\u001b[0;34m\u001b[0m\u001b[0m\n\u001b[0;32m--> 642\u001b[0;31m                                        callbacks=callbacks)\n\u001b[0m\u001b[1;32m    643\u001b[0m         \u001b[0;32mreturn\u001b[0m \u001b[0mself\u001b[0m\u001b[0;34m\u001b[0m\u001b[0m\n\u001b[1;32m    644\u001b[0m \u001b[0;34m\u001b[0m\u001b[0m\n",
      "\u001b[0;32m~/anaconda3/lib/python3.6/site-packages/lightgbm/sklearn.py\u001b[0m in \u001b[0;36mfit\u001b[0;34m(self, X, y, sample_weight, init_score, group, eval_set, eval_names, eval_sample_weight, eval_class_weight, eval_init_score, eval_group, eval_metric, early_stopping_rounds, verbose, feature_name, categorical_feature, callbacks)\u001b[0m\n\u001b[1;32m    500\u001b[0m                               \u001b[0mverbose_eval\u001b[0m\u001b[0;34m=\u001b[0m\u001b[0mverbose\u001b[0m\u001b[0;34m,\u001b[0m \u001b[0mfeature_name\u001b[0m\u001b[0;34m=\u001b[0m\u001b[0mfeature_name\u001b[0m\u001b[0;34m,\u001b[0m\u001b[0;34m\u001b[0m\u001b[0m\n\u001b[1;32m    501\u001b[0m                               \u001b[0mcategorical_feature\u001b[0m\u001b[0;34m=\u001b[0m\u001b[0mcategorical_feature\u001b[0m\u001b[0;34m,\u001b[0m\u001b[0;34m\u001b[0m\u001b[0m\n\u001b[0;32m--> 502\u001b[0;31m                               callbacks=callbacks)\n\u001b[0m\u001b[1;32m    503\u001b[0m \u001b[0;34m\u001b[0m\u001b[0m\n\u001b[1;32m    504\u001b[0m         \u001b[0;32mif\u001b[0m \u001b[0mevals_result\u001b[0m\u001b[0;34m:\u001b[0m\u001b[0;34m\u001b[0m\u001b[0m\n",
      "\u001b[0;32m~/anaconda3/lib/python3.6/site-packages/lightgbm/engine.py\u001b[0m in \u001b[0;36mtrain\u001b[0;34m(params, train_set, num_boost_round, valid_sets, valid_names, fobj, feval, init_model, feature_name, categorical_feature, early_stopping_rounds, evals_result, verbose_eval, learning_rates, keep_training_booster, callbacks)\u001b[0m\n\u001b[1;32m    211\u001b[0m                                     evaluation_result_list=None))\n\u001b[1;32m    212\u001b[0m \u001b[0;34m\u001b[0m\u001b[0m\n\u001b[0;32m--> 213\u001b[0;31m         \u001b[0mbooster\u001b[0m\u001b[0;34m.\u001b[0m\u001b[0mupdate\u001b[0m\u001b[0;34m(\u001b[0m\u001b[0mfobj\u001b[0m\u001b[0;34m=\u001b[0m\u001b[0mfobj\u001b[0m\u001b[0;34m)\u001b[0m\u001b[0;34m\u001b[0m\u001b[0m\n\u001b[0m\u001b[1;32m    214\u001b[0m \u001b[0;34m\u001b[0m\u001b[0m\n\u001b[1;32m    215\u001b[0m         \u001b[0mevaluation_result_list\u001b[0m \u001b[0;34m=\u001b[0m \u001b[0;34m[\u001b[0m\u001b[0;34m]\u001b[0m\u001b[0;34m\u001b[0m\u001b[0m\n",
      "\u001b[0;32m~/anaconda3/lib/python3.6/site-packages/lightgbm/basic.py\u001b[0m in \u001b[0;36mupdate\u001b[0;34m(self, train_set, fobj)\u001b[0m\n\u001b[1;32m   1753\u001b[0m             _safe_call(_LIB.LGBM_BoosterUpdateOneIter(\n\u001b[1;32m   1754\u001b[0m                 \u001b[0mself\u001b[0m\u001b[0;34m.\u001b[0m\u001b[0mhandle\u001b[0m\u001b[0;34m,\u001b[0m\u001b[0;34m\u001b[0m\u001b[0m\n\u001b[0;32m-> 1755\u001b[0;31m                 ctypes.byref(is_finished)))\n\u001b[0m\u001b[1;32m   1756\u001b[0m             \u001b[0mself\u001b[0m\u001b[0;34m.\u001b[0m\u001b[0m__is_predicted_cur_iter\u001b[0m \u001b[0;34m=\u001b[0m \u001b[0;34m[\u001b[0m\u001b[0;32mFalse\u001b[0m \u001b[0;32mfor\u001b[0m \u001b[0m_\u001b[0m \u001b[0;32min\u001b[0m \u001b[0mrange_\u001b[0m\u001b[0;34m(\u001b[0m\u001b[0mself\u001b[0m\u001b[0;34m.\u001b[0m\u001b[0m__num_dataset\u001b[0m\u001b[0;34m)\u001b[0m\u001b[0;34m]\u001b[0m\u001b[0;34m\u001b[0m\u001b[0m\n\u001b[1;32m   1757\u001b[0m             \u001b[0;32mreturn\u001b[0m \u001b[0mis_finished\u001b[0m\u001b[0;34m.\u001b[0m\u001b[0mvalue\u001b[0m \u001b[0;34m==\u001b[0m \u001b[0;36m1\u001b[0m\u001b[0;34m\u001b[0m\u001b[0m\n",
      "\u001b[0;31mKeyboardInterrupt\u001b[0m: "
     ]
    }
   ],
   "source": [
    "params = {\n",
    "    'n_estimators': 10000,\n",
    "    'learning_rate': 0.3, \n",
    "    'num_leaves': 33,\n",
    "    'objective': 'regression_l2', \n",
    "    'metric': 'mae',\n",
    "    'verbose': -1,\n",
    "}\n",
    "start = ptime()\n",
    "model_x1 = LGBMRegressor(**params)\n",
    "model_x1.fit(\n",
    "    X_train, y_train,\n",
    "    eval_set=[(X_test, y_test)],\n",
    "    eval_metric='mae',\n",
    "    verbose=1000,\n",
    ")\n",
    "execution_time = ptime() - start\n",
    "ptime2(execution_time)"
   ]
  },
  {
   "cell_type": "code",
   "execution_count": 23,
   "metadata": {},
   "outputs": [
    {
     "name": "stdout",
     "output_type": "stream",
     "text": [
      "02:48:34.485870\n",
      "02:48:39.608686\n",
      "5.122732s\n",
      "0.05964717549225403\n"
     ]
    }
   ],
   "source": [
    "mae_x1_train = mae(X_to_test=X_train, y_to_test= y_train,model_to_test=model_x1)\n",
    "print(mae_x1_train)"
   ]
  },
  {
   "cell_type": "code",
   "execution_count": 24,
   "metadata": {},
   "outputs": [
    {
     "name": "stdout",
     "output_type": "stream",
     "text": [
      "02:49:06.600900\n",
      "02:49:07.278607\n",
      "0.67761s\n",
      "0.059591231157103144\n"
     ]
    }
   ],
   "source": [
    "mae_x1_test = mae(X_to_test=X_test, y_to_test=y_test,model_to_test=model_x1 )\n",
    "print(mae_x1_test)"
   ]
  },
  {
   "cell_type": "code",
   "execution_count": 25,
   "metadata": {},
   "outputs": [
    {
     "data": {
      "image/png": "[encoded data removed]",
      "text/plain": [
       "<Figure size 720x432 with 1 Axes>"
      ]
     },
     "metadata": {
      "needs_background": "light"
     },
     "output_type": "display_data"
    }
   ],
   "source": [
    "feature_importance = pd.DataFrame(sorted(zip(model_x1.feature_importances_, cols_to_fit)), columns=['Value','Feature'])\n",
    "plt.figure(figsize=(10, 6))\n",
    "sns.barplot(x=\"Value\", y=\"Feature\", data=feature_importance.sort_values(by=\"Value\", ascending=False))\n",
    "plt.title('LightGBM Features No matchType - model_x1')\n",
    "plt.tight_layout()"
   ]
  },
  {
   "cell_type": "code",
   "execution_count": 47,
   "metadata": {
    "scrolled": false
   },
   "outputs": [
    {
     "name": "stdout",
     "output_type": "stream",
     "text": [
      "04:23:09.556705\n",
      "[2000]\tvalid_0's l1: 0.0565838\n",
      "[4000]\tvalid_0's l1: 0.0559841\n",
      "[6000]\tvalid_0's l1: 0.0556686\n",
      "[8000]\tvalid_0's l1: 0.0554168\n",
      "[10000]\tvalid_0's l1: 0.0552298\n",
      "[12000]\tvalid_0's l1: 0.0551121\n",
      "[14000]\tvalid_0's l1: 0.0550015\n",
      "[16000]\tvalid_0's l1: 0.0548825\n",
      "[18000]\tvalid_0's l1: 0.0548189\n",
      "[20000]\tvalid_0's l1: 0.0547528\n",
      "[22000]\tvalid_0's l1: 0.054727\n",
      "[24000]\tvalid_0's l1: 0.0546954\n",
      "[26000]\tvalid_0's l1: 0.0546382\n",
      "[28000]\tvalid_0's l1: 0.054581\n",
      "[30000]\tvalid_0's l1: 0.0545286\n",
      "[32000]\tvalid_0's l1: 0.0544911\n",
      "05:25:30.907642\n",
      "3741.351482s\n"
     ]
    }
   ],
   "source": [
    "params = {\n",
    "    'n_estimators': 16000,\n",
    "    'learning_rate': 0.1, \n",
    "    'num_leaves': 33,\n",
    "    'objective': 'regression_l2', \n",
    "    'metric': 'mae',\n",
    "    'verbose': -1,\n",
    "}\n",
    "start = ptime()\n",
    "model_x1 = LGBMRegressor(**params)\n",
    "model_x1.fit(\n",
    "    X_train, y_train,\n",
    "    eval_set=[(X_test, y_test)],\n",
    "    eval_metric='mae',\n",
    "    verbose=2000,\n",
    ")\n",
    "execution_time = ptime() - start\n",
    "ptime2(execution_time)"
   ]
  },
  {
   "cell_type": "code",
   "execution_count": 81,
   "metadata": {},
   "outputs": [
    {
     "name": "stdout",
     "output_type": "stream",
     "text": [
      "10:43:50.636450\n",
      "[20]\tvalid_0's l1: 0.062321\n",
      "[40]\tvalid_0's l1: 0.0600468\n",
      "[60]\tvalid_0's l1: 0.0594213\n",
      "[80]\tvalid_0's l1: 0.058939\n",
      "[100]\tvalid_0's l1: 0.0586545\n",
      "[120]\tvalid_0's l1: 0.0584981\n",
      "[140]\tvalid_0's l1: 0.0583798\n",
      "[160]\tvalid_0's l1: 0.0582696\n",
      "[180]\tvalid_0's l1: 0.0581388\n",
      "[200]\tvalid_0's l1: 0.0579901\n",
      "10:44:25.738597\n",
      "35.101905s\n"
     ]
    }
   ],
   "source": [
    "params = {\n",
    "    'n_estimators': 200,\n",
    "    'learning_rate': 0.35, \n",
    "    'num_leaves': 35,\n",
    "    'objective': 'regression_l2', \n",
    "    'metric': 'mae',\n",
    "    'reg_lambda' : 0.07,\n",
    "    'verbose': -1,\n",
    "}\n",
    "start = ptime()\n",
    "model_x1 = LGBMRegressor(**params)\n",
    "model_x1.fit(\n",
    "    X_train, y_train,\n",
    "    eval_set=[(X_test, y_test)],\n",
    "    eval_metric='mae',\n",
    "    verbose=20,\n",
    ")\n",
    "execution_time = ptime() - start\n",
    "ptime2(execution_time)"
   ]
  },
  {
   "cell_type": "code",
   "execution_count": 82,
   "metadata": {},
   "outputs": [
    {
     "name": "stdout",
     "output_type": "stream",
     "text": [
      "10:45:21.203643\n",
      "[20]\tvalid_0's l1: 0.0623211\n",
      "[40]\tvalid_0's l1: 0.0600468\n",
      "[60]\tvalid_0's l1: 0.0594213\n",
      "[80]\tvalid_0's l1: 0.058939\n",
      "[100]\tvalid_0's l1: 0.0586816\n",
      "[120]\tvalid_0's l1: 0.0584841\n",
      "[140]\tvalid_0's l1: 0.0583625\n",
      "[160]\tvalid_0's l1: 0.0582162\n",
      "[180]\tvalid_0's l1: 0.0580928\n",
      "[200]\tvalid_0's l1: 0.0579613\n",
      "10:45:57.652062\n",
      "36.448425s\n"
     ]
    }
   ],
   "source": [
    "params = {\n",
    "    'n_estimators': 200,\n",
    "    'learning_rate': 0.35, \n",
    "    'num_leaves': 35,\n",
    "    'objective': 'regression_l2', \n",
    "    'metric': 'mae',\n",
    "    'reg_lambda' : 0.09,\n",
    "    'verbose': -1,\n",
    "}\n",
    "start = ptime()\n",
    "model_x1 = LGBMRegressor(**params)\n",
    "model_x1.fit(\n",
    "    X_train, y_train,\n",
    "    eval_set=[(X_test, y_test)],\n",
    "    eval_metric='mae',\n",
    "    verbose=20,\n",
    ")\n",
    "execution_time = ptime() - start\n",
    "ptime2(execution_time)"
   ]
  },
  {
   "cell_type": "code",
   "execution_count": 112,
   "metadata": {},
   "outputs": [
    {
     "name": "stdout",
     "output_type": "stream",
     "text": [
      "11:17:18.608612\n",
      "[20]\tvalid_0's l1: 0.0632209\n",
      "[40]\tvalid_0's l1: 0.0605182\n",
      "[60]\tvalid_0's l1: 0.0596108\n",
      "[80]\tvalid_0's l1: 0.0591561\n",
      "[100]\tvalid_0's l1: 0.0589005\n",
      "[120]\tvalid_0's l1: 0.0586272\n",
      "[140]\tvalid_0's l1: 0.05847\n",
      "[160]\tvalid_0's l1: 0.0583103\n",
      "[180]\tvalid_0's l1: 0.0582323\n",
      "[200]\tvalid_0's l1: 0.0581063\n",
      "[220]\tvalid_0's l1: 0.058031\n",
      "11:17:57.502080\n",
      "38.893487s\n"
     ]
    }
   ],
   "source": [
    "params = {\n",
    "    'n_estimators': 220,\n",
    "    'learning_rate': 0.3, \n",
    "    'num_leaves': 31,\n",
    "    'objective': 'regression_l2', \n",
    "    'metric': 'mae',\n",
    "    'reg_lambda' : 0.2,\n",
    "    'verbose': -1,\n",
    "}\n",
    "start = ptime()\n",
    "model_x1 = LGBMRegressor(**params)\n",
    "model_x1.fit(\n",
    "    X_train, y_train,\n",
    "    eval_set=[(X_test, y_test)],\n",
    "    eval_metric='mae',\n",
    "    verbose=20,\n",
    ")\n",
    "execution_time = ptime() - start\n",
    "ptime2(execution_time)"
   ]
  },
  {
   "cell_type": "code",
   "execution_count": 99,
   "metadata": {},
   "outputs": [
    {
     "name": "stdout",
     "output_type": "stream",
     "text": [
      "11:04:07.978546\n",
      "11:04:09.029791\n",
      "1.051126s\n",
      "0.0579613089595354\n"
     ]
    }
   ],
   "source": [
    "mae_x1_test = mae(X_to_test=X_test, y_to_test=y_test,model_to_test=model_x1 )\n",
    "print(mae_x1_test)"
   ]
  },
  {
   "cell_type": "code",
   "execution_count": null,
   "metadata": {},
   "outputs": [],
   "source": []
  },
  {
   "cell_type": "code",
   "execution_count": 90,
   "metadata": {},
   "outputs": [
    {
     "name": "stdout",
     "output_type": "stream",
     "text": [
      "10:52:42.749284\n",
      "[20]\tvalid_0's l1: 0.0620269\n",
      "[40]\tvalid_0's l1: 0.0602751\n",
      "[60]\tvalid_0's l1: 0.0596538\n",
      "[80]\tvalid_0's l1: 0.0592945\n",
      "[100]\tvalid_0's l1: 0.058893\n",
      "[120]\tvalid_0's l1: 0.0587384\n",
      "[140]\tvalid_0's l1: 0.0584752\n",
      "[160]\tvalid_0's l1: 0.0583262\n",
      "[180]\tvalid_0's l1: 0.0581968\n",
      "[200]\tvalid_0's l1: 0.0581082\n",
      "10:53:14.762688\n",
      "32.013423s\n"
     ]
    }
   ],
   "source": [
    "params = {\n",
    "    'n_estimators': 200,\n",
    "    'learning_rate': 0.5, \n",
    "    'num_leaves': 35,\n",
    "    'objective': 'regression', \n",
    "    'metric': 'mae',\n",
    "    'reg_lambda' :  0.0000001 ,\n",
    "    'verbose': -1,\n",
    "}\n",
    "start = ptime()\n",
    "model_x1 = LGBMRegressor(**params)\n",
    "model_x1.fit(\n",
    "    X_train, y_train,\n",
    "    eval_set=[(X_test, y_test)],\n",
    "    eval_metric='mae',\n",
    "    verbose=20,\n",
    ")\n",
    "execution_time = ptime() - start\n",
    "ptime2(execution_time)"
   ]
  },
  {
   "cell_type": "code",
   "execution_count": 115,
   "metadata": {},
   "outputs": [
    {
     "name": "stdout",
     "output_type": "stream",
     "text": [
      "11:23:05.462099\n",
      "[50]\tvalid_0's l1: 0.0599631\n",
      "[100]\tvalid_0's l1: 0.0587465\n",
      "11:23:26.201583\n",
      "20.739714s\n"
     ]
    }
   ],
   "source": [
    "params = {\n",
    "    'n_estimators': 100,\n",
    "    'learning_rate': 0.5, \n",
    "    'num_leaves': 35,\n",
    "    'objective': 'regression', \n",
    "    'metric': 'mae',\n",
    "    'reg_lambda' : 0.1,\n",
    "    'reg_alpha' : 0.0001,\n",
    "    'verbose': -1,\n",
    "}\n",
    "start = ptime()\n",
    "model_x1 = LGBMRegressor(**params)\n",
    "model_x1.fit(\n",
    "    X_train, y_train,\n",
    "    eval_set=[(X_test, y_test)],\n",
    "    eval_metric='mae',\n",
    "    verbose=50,\n",
    ")\n",
    "execution_time = ptime() - start\n",
    "ptime2(execution_time)\n",
    "#0.058893\n",
    "#0.0587465"
   ]
  },
  {
   "cell_type": "code",
   "execution_count": 73,
   "metadata": {},
   "outputs": [
    {
     "name": "stdout",
     "output_type": "stream",
     "text": [
      "10:30:51.152400\n",
      "[20]\tvalid_0's l1: 0.0631624\n",
      "[40]\tvalid_0's l1: 0.0604073\n",
      "[60]\tvalid_0's l1: 0.059632\n",
      "[80]\tvalid_0's l1: 0.0591652\n",
      "[100]\tvalid_0's l1: 0.058846\n",
      "10:31:14.227508\n",
      "23.074821s\n"
     ]
    }
   ],
   "source": [
    "params = {\n",
    "    'n_estimators': 100,\n",
    "    'learning_rate': 0.3, \n",
    "    'num_leaves': 33,\n",
    "    'objective': 'regression_l2', \n",
    "    'metric': 'mae',\n",
    "    'verbose': -1,\n",
    "}\n",
    "start = ptime()\n",
    "model_x1 = LGBMRegressor(**params)\n",
    "model_x1.fit(\n",
    "    X_train, y_train,\n",
    "    eval_set=[(X_test, y_test)],\n",
    "    eval_metric='mae',\n",
    "    verbose=20,\n",
    ")\n",
    "execution_time = ptime() - start\n",
    "ptime2(execution_time)"
   ]
  },
  {
   "cell_type": "code",
   "execution_count": null,
   "metadata": {},
   "outputs": [],
   "source": []
  }
 ],
 "metadata": {
  "kernelspec": {
   "display_name": "Python 3",
   "language": "python",
   "name": "python3"
  },
  "language_info": {
   "codemirror_mode": {
    "name": "ipython",
    "version": 3
   },
   "file_extension": ".py",
   "mimetype": "text/x-python",
   "name": "python",
   "nbconvert_exporter": "python",
   "pygments_lexer": "ipython3",
   "version": "3.6.6"
  }
 },
 "nbformat": 4,
 "nbformat_minor": 2
}
