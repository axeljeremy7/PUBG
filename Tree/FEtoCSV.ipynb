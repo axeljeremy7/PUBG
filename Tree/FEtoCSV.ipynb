{
 "cells": [
  {
   "cell_type": "code",
   "execution_count": null,
   "metadata": {},
   "outputs": [],
   "source": [
    "# Importing the libraries\n",
    "import os\n",
    "import gc\n",
    "import time\n",
    "import numpy as np\n",
    "import pandas as pd\n",
    "import matplotlib.pyplot as plt\n",
    "import seaborn as sns\n",
    "import random\n",
    "import datetime\n",
    "random.seed(7)"
   ]
  },
  {
   "cell_type": "code",
   "execution_count": null,
   "metadata": {},
   "outputs": [],
   "source": [
    "df = pd.read_csv('./data/train_V2.csv')\n",
    "df = df.dropna()"
   ]
  },
  {
   "cell_type": "code",
   "execution_count": null,
   "metadata": {},
   "outputs": [],
   "source": [
    "df['heals&boosts'] = df['heals'] + df['boosts']\n",
    "df['total_distance'] = df['rideDistance'] + df['swimDistance'] + df['walkDistance']\n",
    "df['headshotKills_over_kills'] = df['headshotKills'] / df['kills']\n",
    "df['headshotKills_over_kills'].fillna(0, inplace=True)\n",
    "df['killPlace_over_maxPlace'] = df['killPlace'] / df['maxPlace']\n",
    "df['killPlace_over_maxPlace'].fillna(0, inplace=True)\n",
    "df['killPlace_over_maxPlace'].replace(np.inf, 0, inplace=True)\n",
    "df['walkDistance_over_heals'] = df['walkDistance'] / df['heals']\n",
    "df['walkDistance_over_heals'].fillna(0, inplace=True)\n",
    "df['walkDistance_over_heals'].replace(np.inf, 0, inplace=True)\n",
    "df['walkDistance_over_boosts'] = df['walkDistance'] / df['boosts']\n",
    "df['walkDistance_over_boosts'].fillna(0, inplace=True)\n",
    "df['walkDistance_over_boosts'].replace(np.inf, 0, inplace=True)\n",
    "df['walkDistance_over_kills'] = df['walkDistance'] / df['kills']\n",
    "df['walkDistance_over_kills'].fillna(0, inplace=True)\n",
    "df['walkDistance_over_kills'].replace(np.inf, 0, inplace=True)   \n",
    "df['teamwork'] = df['assists'] + df['revives']"
   ]
  },
  {
   "cell_type": "code",
   "execution_count": null,
   "metadata": {},
   "outputs": [],
   "source": [
    "df.to_csv('train_FE.csv', index=False)"
   ]
  }
 ],
 "metadata": {
  "kernelspec": {
   "display_name": "Python 3",
   "language": "python",
   "name": "python3"
  },
  "language_info": {
   "codemirror_mode": {
    "name": "ipython",
    "version": 3
   },
   "file_extension": ".py",
   "mimetype": "text/x-python",
   "name": "python",
   "nbconvert_exporter": "python",
   "pygments_lexer": "ipython3",
   "version": "3.7.0"
  }
 },
 "nbformat": 4,
 "nbformat_minor": 2
}
