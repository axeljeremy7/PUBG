{
 "cells": [
  {
   "cell_type": "code",
   "execution_count": 1,
   "metadata": {},
   "outputs": [],
   "source": [
    "# Importing the libraries\n",
    "import os\n",
    "import gc\n",
    "import time\n",
    "import numpy as np\n",
    "import pandas as pd\n",
    "import matplotlib.pyplot as plt\n",
    "import seaborn as sns\n",
    "import random\n",
    "import datetime\n",
    "random.seed(7)"
   ]
  },
  {
   "cell_type": "code",
   "execution_count": 2,
   "metadata": {},
   "outputs": [],
   "source": [
    "def read_dataset():\n",
    "    gc.collect()\n",
    "    df = pd.read_csv('./data/train_V2.csv')\n",
    "    print(df.shape)\n",
    "    df = df.dropna()\n",
    "    print(df.shape)\n",
    "    return df"
   ]
  },
  {
   "cell_type": "code",
   "execution_count": 3,
   "metadata": {},
   "outputs": [],
   "source": [
    "def ptime():\n",
    "    print(datetime.datetime.now().time())"
   ]
  },
  {
   "cell_type": "code",
   "execution_count": 4,
   "metadata": {},
   "outputs": [
    {
     "name": "stdout",
     "output_type": "stream",
     "text": [
      "01:02:42.624951\n",
      "(4446966, 29)\n",
      "(4446965, 29)\n",
      "01:03:07.743163\n"
     ]
    }
   ],
   "source": [
    "ptime()\n",
    "df = read_dataset()\n",
    "ptime()"
   ]
  },
  {
   "cell_type": "code",
   "execution_count": 5,
   "metadata": {},
   "outputs": [
    {
     "name": "stdout",
     "output_type": "stream",
     "text": [
      "<class 'pandas.core.frame.DataFrame'>\n",
      "Int64Index: 4446965 entries, 0 to 4446965\n",
      "Data columns (total 29 columns):\n",
      "Id                 object\n",
      "groupId            object\n",
      "matchId            object\n",
      "assists            int64\n",
      "boosts             int64\n",
      "damageDealt        float64\n",
      "DBNOs              int64\n",
      "headshotKills      int64\n",
      "heals              int64\n",
      "killPlace          int64\n",
      "killPoints         int64\n",
      "kills              int64\n",
      "killStreaks        int64\n",
      "longestKill        float64\n",
      "matchDuration      int64\n",
      "matchType          object\n",
      "maxPlace           int64\n",
      "numGroups          int64\n",
      "rankPoints         int64\n",
      "revives            int64\n",
      "rideDistance       float64\n",
      "roadKills          int64\n",
      "swimDistance       float64\n",
      "teamKills          int64\n",
      "vehicleDestroys    int64\n",
      "walkDistance       float64\n",
      "weaponsAcquired    int64\n",
      "winPoints          int64\n",
      "winPlacePerc       float64\n",
      "dtypes: float64(6), int64(19), object(4)\n",
      "memory usage: 1017.8+ MB\n"
     ]
    }
   ],
   "source": [
    "df.info()"
   ]
  },
  {
   "cell_type": "code",
   "execution_count": 5,
   "metadata": {},
   "outputs": [
    {
     "name": "stdout",
     "output_type": "stream",
     "text": [
      "00:37:39.291947\n",
      "Memory usage of dataframe is 1017.83 MB\n",
      "Memory usage after optimization is: 322.31 MB\n",
      "Decreased by 68.3%\n",
      "<class 'pandas.core.frame.DataFrame'>\n",
      "Int64Index: 4446965 entries, 0 to 4446965\n",
      "Data columns (total 29 columns):\n",
      "Id                 object\n",
      "groupId            object\n",
      "matchId            object\n",
      "assists            int8\n",
      "boosts             int8\n",
      "damageDealt        float16\n",
      "DBNOs              int8\n",
      "headshotKills      int8\n",
      "heals              int8\n",
      "killPlace          int8\n",
      "killPoints         int16\n",
      "kills              int8\n",
      "killStreaks        int8\n",
      "longestKill        float16\n",
      "matchDuration      int16\n",
      "matchType          object\n",
      "maxPlace           int8\n",
      "numGroups          int8\n",
      "rankPoints         int16\n",
      "revives            int8\n",
      "rideDistance       float16\n",
      "roadKills          int8\n",
      "swimDistance       float16\n",
      "teamKills          int8\n",
      "vehicleDestroys    int8\n",
      "walkDistance       float16\n",
      "weaponsAcquired    int16\n",
      "winPoints          int16\n",
      "winPlacePerc       float16\n",
      "dtypes: float16(6), int16(5), int8(14), object(4)\n",
      "memory usage: 322.3+ MB\n",
      "00:37:42.953386\n"
     ]
    }
   ],
   "source": [
    "def reduce_mem_usage(df):\n",
    "    \"\"\" iterate through all the columns of a dataframe and modify the data type\n",
    "        to reduce memory usage.        \n",
    "    \"\"\"\n",
    "    start_mem = df.memory_usage().sum() / 1024**2\n",
    "    print('Memory usage of dataframe is {:.2f} MB'.format(start_mem))\n",
    "\n",
    "    for col in df.columns:\n",
    "        col_type = df[col].dtype\n",
    "\n",
    "        if col_type != object:\n",
    "            c_min = df[col].min()\n",
    "            c_max = df[col].max()\n",
    "            if str(col_type)[:3] == 'int':\n",
    "                if c_min > np.iinfo(np.int8).min and c_max < np.iinfo(np.int8).max:\n",
    "                    df[col] = df[col].astype(np.int8)\n",
    "                elif c_min > np.iinfo(np.int16).min and c_max < np.iinfo(np.int16).max:\n",
    "                    df[col] = df[col].astype(np.int16)\n",
    "                elif c_min > np.iinfo(np.int32).min and c_max < np.iinfo(np.int32).max:\n",
    "                    df[col] = df[col].astype(np.int32)\n",
    "                elif c_min > np.iinfo(np.int64).min and c_max < np.iinfo(np.int64).max:\n",
    "                    df[col] = df[col].astype(np.int64)  \n",
    "            else:\n",
    "                if c_min > np.finfo(np.float16).min and c_max < np.finfo(np.float16).max:\n",
    "                    df[col] = df[col].astype(np.float16)\n",
    "                elif c_min > np.finfo(np.float32).min and c_max < np.finfo(np.float32).max:\n",
    "                    df[col] = df[col].astype(np.float32)\n",
    "                else:\n",
    "                    df[col] = df[col].astype(np.float64)\n",
    "\n",
    "    end_mem = df.memory_usage().sum() / 1024**2\n",
    "    print('Memory usage after optimization is: {:.2f} MB'.format(end_mem))\n",
    "    print('Decreased by {:.1f}%'.format(100 * (start_mem - end_mem) / start_mem))\n",
    "\n",
    "    return df\n",
    "\n",
    "ptime()\n",
    "df = reduce_mem_usage(df)\n",
    "df.info()\n",
    "ptime()"
   ]
  },
  {
   "cell_type": "code",
   "execution_count": 5,
   "metadata": {},
   "outputs": [
    {
     "data": {
      "text/plain": [
       "(4446965, 29)"
      ]
     },
     "execution_count": 5,
     "metadata": {},
     "output_type": "execute_result"
    }
   ],
   "source": [
    "df.shape"
   ]
  },
  {
   "cell_type": "code",
   "execution_count": null,
   "metadata": {},
   "outputs": [
    {
     "name": "stdout",
     "output_type": "stream",
     "text": [
      "01:04:29.496693\n"
     ]
    }
   ],
   "source": [
    "ptime()\n",
    "cols_to_drop = ['Id', 'groupId', 'matchId', 'winPlacePerc', 'players_in_team']\n",
    "features = [col for col in df.columns if col not in cols_to_drop]\n",
    "agg1 = df.groupby(['matchId','groupId'])[features].min()\n",
    "ptime()"
   ]
  },
  {
   "cell_type": "code",
   "execution_count": null,
   "metadata": {},
   "outputs": [],
   "source": [
    "def players_in_team(df):\n",
    "    agg = df.groupby(['groupId']).size().to_frame('players_in_team')\n",
    "    return df.merge(agg, how='left', on=['groupId'])\n",
    "\n",
    "def min_by_team(df):\n",
    "    cols_to_drop = ['Id', 'groupId', 'matchId', 'winPlacePerc']\n",
    "    features = [col for col in df.columns if col not in cols_to_drop]\n",
    "    agg = df.groupby(['matchId','groupId'])[features].min()\n",
    "    return df.merge(agg, suffixes=['', '_min'], how='left', on=['matchId', 'groupId'])\n",
    "\n",
    "def max_by_team(df):\n",
    "    cols_to_drop = ['Id', 'groupId', 'matchId', 'winPlacePerc']\n",
    "    features = [col for col in df.columns if col not in cols_to_drop]\n",
    "    agg = df.groupby(['matchId', 'groupId'])[features].max()\n",
    "    return df.merge(agg, suffixes=['', '_max'], how='left', on=['matchId', 'groupId'])\n",
    "\n",
    "def sum_by_team(df):\n",
    "    cols_to_drop = ['Id', 'groupId', 'matchId', 'winPlacePerc']\n",
    "    features = [col for col in df.columns if col not in cols_to_drop]\n",
    "    agg = df.groupby(['matchId', 'groupId'])[features].sum()\n",
    "    return df.merge(agg, suffixes=['', '_sum'], how='left', on=['matchId', 'groupId'])\n",
    "\n",
    "def median_by_team(df):\n",
    "    cols_to_drop = ['Id', 'groupId', 'matchId', 'winPlacePerc']\n",
    "    features = [col for col in df.columns if col not in cols_to_drop]\n",
    "    agg = df.groupby(['matchId', 'groupId'])[features].median()\n",
    "    return df.merge(agg, suffixes=['', '_median'], how='left', on=['matchId', 'groupId'])\n",
    "\n",
    "def mean_by_team(df):\n",
    "    cols_to_drop = ['Id', 'groupId', 'matchId', 'winPlacePerc']\n",
    "    features = [col for col in df.columns if col not in cols_to_drop]\n",
    "    agg = df.groupby(['matchId', 'groupId'])[features].mean()\n",
    "    return df.merge(agg, suffixes=['', '_mean'], how='left', on=['matchId', 'groupId'])\n",
    "\n",
    "def rank_by_team(df):\n",
    "    cols_to_drop = ['Id', 'groupId', 'matchId', 'winPlacePerc']\n",
    "    features = [col for col in df.columns if col not in cols_to_drop]\n",
    "    agg = df.groupby(['matchId', 'groupId'])[features].mean()\n",
    "    agg = agg.groupby('matchId')[features].rank(pct=True)\n",
    "    return df.merge(agg, suffixes=['', '_mean_rank'], how='left', on=['matchId', 'groupId'])"
   ]
  },
  {
   "cell_type": "code",
   "execution_count": 12,
   "metadata": {},
   "outputs": [
    {
     "data": {
      "text/plain": [
       "(4446965, 37)"
      ]
     },
     "execution_count": 12,
     "metadata": {},
     "output_type": "execute_result"
    }
   ],
   "source": [
    "df['heals&boosts'] = df['heals'] + df['boosts']\n",
    "df['total_distance'] = df['rideDistance'] + df['swimDistance'] + df['walkDistance']\n",
    "df['headshotKills_over_kills'] = df['headshotKills'] / df['kills']\n",
    "df['headshotKills_over_kills'].fillna(0, inplace=True)\n",
    "df['killPlace_over_maxPlace'] = df['killPlace'] / df['maxPlace']\n",
    "df['killPlace_over_maxPlace'].fillna(0, inplace=True)\n",
    "df['killPlace_over_maxPlace'].replace(np.inf, 0, inplace=True)\n",
    "df['walkDistance_over_heals'] = df['walkDistance'] / df['heals']\n",
    "df['walkDistance_over_heals'].fillna(0, inplace=True)\n",
    "df['walkDistance_over_heals'].replace(np.inf, 0, inplace=True)\n",
    "df['walkDistance_over_boosts'] = df['walkDistance'] / df['boosts']\n",
    "df['walkDistance_over_boosts'].fillna(0, inplace=True)\n",
    "df['walkDistance_over_boosts'].replace(np.inf, 0, inplace=True)\n",
    "df['walkDistance_over_kills'] = df['walkDistance'] / df['kills']\n",
    "df['walkDistance_over_kills'].fillna(0, inplace=True)\n",
    "df['walkDistance_over_kills'].replace(np.inf, 0, inplace=True)   \n",
    "df['teamwork'] = df['assists'] + df['revives']\n",
    "df.shape"
   ]
  },
  {
   "cell_type": "code",
   "execution_count": null,
   "metadata": {},
   "outputs": [],
   "source": [
    "agg2 = df.groupby(['matchId', 'groupId'])[features].max()\n",
    "agg3 = df.groupby(['matchId', 'groupId'])[features].sum()\n",
    "agg4 = df.groupby(['matchId', 'groupId'])[features].median()\n",
    "agg5 = df.groupby(['matchId', 'groupId'])[features].mean()\n",
    "agg6 = df.groupby(['matchId', 'groupId'])[features].mean()\n",
    "agg6 = agg.groupby('matchId')[features].rank(pct=True)"
   ]
  },
  {
   "cell_type": "code",
   "execution_count": null,
   "metadata": {},
   "outputs": [],
   "source": []
  }
 ],
 "metadata": {
  "kernelspec": {
   "display_name": "Python 3",
   "language": "python",
   "name": "python3"
  },
  "language_info": {
   "codemirror_mode": {
    "name": "ipython",
    "version": 3
   },
   "file_extension": ".py",
   "mimetype": "text/x-python",
   "name": "python",
   "nbconvert_exporter": "python",
   "pygments_lexer": "ipython3",
   "version": "3.7.0"
  }
 },
 "nbformat": 4,
 "nbformat_minor": 2
}
