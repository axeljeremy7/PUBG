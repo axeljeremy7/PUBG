{
 "cells": [
  {
   "cell_type": "code",
   "execution_count": 2,
   "metadata": {},
   "outputs": [],
   "source": [
    "import gc\n",
    "import time\n",
    "import numpy as np\n",
    "import pandas as pd\n",
    "import matplotlib.pyplot as plt\n",
    "import seaborn as sns\n",
    "import random\n",
    "import datetime\n",
    "random.seed(7)"
   ]
  },
  {
   "cell_type": "code",
   "execution_count": 3,
   "metadata": {},
   "outputs": [
    {
     "name": "stdout",
     "output_type": "stream",
     "text": [
      "21:53:43.313462\n",
      "21:53:43.313838\n",
      "0.000103s\n"
     ]
    }
   ],
   "source": [
    "def ptime():\n",
    "    print(datetime.datetime.now().time())\n",
    "    return time.time()\n",
    "start = ptime()\n",
    "execution_time = ptime() - start\n",
    "def ptime2(execution_time):\n",
    "    print(f'{round(execution_time, 6)}s')\n",
    "ptime2(execution_time)"
   ]
  },
  {
   "cell_type": "code",
   "execution_count": 4,
   "metadata": {},
   "outputs": [],
   "source": [
    "def read_dataset():\n",
    "    start = ptime()\n",
    "    gc.collect()\n",
    "    df = pd.read_csv('../data/train_small.csv')#change\n",
    "    print(df.shape)\n",
    "    df = df.dropna()\n",
    "    print(df.shape)\n",
    "    execution_time = ptime() - start\n",
    "    ptime2(execution_time)\n",
    "    return df"
   ]
  },
  {
   "cell_type": "code",
   "execution_count": 5,
   "metadata": {},
   "outputs": [],
   "source": [
    "# def train_test_split(df, test_size=0.1):\n",
    "#     match_ids = df['matchId'].unique().tolist()\n",
    "#     train_size = int(len(match_ids) * (1 - test_size))\n",
    "#     train_match_ids = random.sample(match_ids, train_size)\n",
    "\n",
    "#     train = df[df['matchId'].isin(train_match_ids)]\n",
    "#     test = df[-df['matchId'].isin(train_match_ids)]\n",
    "    \n",
    "#     return train, test"
   ]
  },
  {
   "cell_type": "code",
   "execution_count": 6,
   "metadata": {},
   "outputs": [
    {
     "name": "stdout",
     "output_type": "stream",
     "text": [
      "21:55:42.686977\n",
      "(444697, 29)\n",
      "(444697, 29)\n",
      "21:55:45.232744\n",
      "2.545624s\n"
     ]
    }
   ],
   "source": [
    "df = read_dataset()"
   ]
  },
  {
   "cell_type": "code",
   "execution_count": 8,
   "metadata": {},
   "outputs": [
    {
     "data": {
      "text/plain": [
       "(444697, 29)"
      ]
     },
     "execution_count": 8,
     "metadata": {},
     "output_type": "execute_result"
    }
   ],
   "source": [
    "df.shape"
   ]
  },
  {
   "cell_type": "code",
   "execution_count": 7,
   "metadata": {},
   "outputs": [],
   "source": [
    "def reduce_mem_usage(df):\n",
    "    start = ptime()\n",
    "    start_mem = df.memory_usage().sum() / 1024**2\n",
    "    print('Memory usage of dataframe is {:.6f} MB'.format(start_mem))\n",
    "    \n",
    "    cols_to_drop = ['Id', 'groupId', 'matchId', 'winPlacePerc']\n",
    "    features = [col for col in df.columns if col not in cols_to_drop]\n",
    "    for col in features:\n",
    "        col_type = df[col].dtype\n",
    "\n",
    "        if col_type != object:\n",
    "            c_min = df[col].min()\n",
    "            c_max = df[col].max()\n",
    "            if str(col_type)[:3] == 'int':\n",
    "                if c_min > np.iinfo(np.int8).min and c_max < np.iinfo(np.int8).max:\n",
    "                    df[col] = df[col].astype(np.int8)\n",
    "                elif c_min > np.iinfo(np.int16).min and c_max < np.iinfo(np.int16).max:\n",
    "                    df[col] = df[col].astype(np.int16)\n",
    "                elif c_min > np.iinfo(np.int32).min and c_max < np.iinfo(np.int32).max:\n",
    "                    df[col] = df[col].astype(np.int32)\n",
    "                elif c_min > np.iinfo(np.int64).min and c_max < np.iinfo(np.int64).max:\n",
    "                    df[col] = df[col].astype(np.int64)  \n",
    "            else:\n",
    "                if c_min > np.finfo(np.float16).min and c_max < np.finfo(np.float16).max:\n",
    "                    df[col] = df[col].astype(np.float16)\n",
    "                elif c_min > np.finfo(np.float32).min and c_max < np.finfo(np.float32).max:\n",
    "                    df[col] = df[col].astype(np.float32)\n",
    "                else:\n",
    "                    df[col] = df[col].astype(np.float64)\n",
    "    \n",
    "    execution_time = ptime() - start\n",
    "    ptime2(execution_time)\n",
    "    end_mem = df.memory_usage().sum() / 1024**2\n",
    "    print('Memory usage after optimization is: {:.6f} MB'.format(end_mem))\n",
    "    print('Decreased by {:.1f}%'.format(100 * (start_mem - end_mem) / start_mem))\n",
    "    return df"
   ]
  },
  {
   "cell_type": "code",
   "execution_count": 9,
   "metadata": {},
   "outputs": [
    {
     "name": "stdout",
     "output_type": "stream",
     "text": [
      "21:56:21.401059\n",
      "Memory usage of dataframe is 101.783066 MB\n",
      "21:56:21.723764\n",
      "0.322733s\n",
      "Memory usage after optimization is: 34.351785 MB\n",
      "Decreased by 66.2%\n"
     ]
    }
   ],
   "source": [
    "df = reduce_mem_usage(df)"
   ]
  },
  {
   "cell_type": "code",
   "execution_count": 10,
   "metadata": {},
   "outputs": [
    {
     "data": {
      "text/plain": [
       "(444697, 29)"
      ]
     },
     "execution_count": 10,
     "metadata": {},
     "output_type": "execute_result"
    }
   ],
   "source": [
    "df.shape"
   ]
  },
  {
   "cell_type": "code",
   "execution_count": 11,
   "metadata": {
    "scrolled": true
   },
   "outputs": [
    {
     "name": "stdout",
     "output_type": "stream",
     "text": [
      "<class 'pandas.core.frame.DataFrame'>\n",
      "Int64Index: 444697 entries, 0 to 444696\n",
      "Data columns (total 29 columns):\n",
      "Id                 444697 non-null object\n",
      "groupId            444697 non-null object\n",
      "matchId            444697 non-null object\n",
      "assists            444697 non-null int8\n",
      "boosts             444697 non-null int8\n",
      "damageDealt        444697 non-null float16\n",
      "DBNOs              444697 non-null int8\n",
      "headshotKills      444697 non-null int8\n",
      "heals              444697 non-null int8\n",
      "killPlace          444697 non-null int8\n",
      "killPoints         444697 non-null int16\n",
      "kills              444697 non-null int8\n",
      "killStreaks        444697 non-null int8\n",
      "longestKill        444697 non-null float16\n",
      "matchDuration      444697 non-null int16\n",
      "matchType          444697 non-null object\n",
      "maxPlace           444697 non-null int8\n",
      "numGroups          444697 non-null int8\n",
      "rankPoints         444697 non-null int16\n",
      "revives            444697 non-null int8\n",
      "rideDistance       444697 non-null float16\n",
      "roadKills          444697 non-null int8\n",
      "swimDistance       444697 non-null float16\n",
      "teamKills          444697 non-null int8\n",
      "vehicleDestroys    444697 non-null int8\n",
      "walkDistance       444697 non-null float16\n",
      "weaponsAcquired    444697 non-null int8\n",
      "winPoints          444697 non-null int16\n",
      "winPlacePerc       444697 non-null float64\n",
      "dtypes: float16(5), float64(1), int16(4), int8(15), object(4)\n",
      "memory usage: 34.4+ MB\n"
     ]
    }
   ],
   "source": [
    "df.info()"
   ]
  },
  {
   "cell_type": "code",
   "execution_count": 12,
   "metadata": {},
   "outputs": [],
   "source": [
    "# train, val = train_test_split(df, 0.1)"
   ]
  },
  {
   "cell_type": "markdown",
   "metadata": {},
   "source": [
    "# With matchType"
   ]
  },
  {
   "cell_type": "markdown",
   "metadata": {},
   "source": [
    "# Getting X AND Y"
   ]
  },
  {
   "cell_type": "code",
   "execution_count": 74,
   "metadata": {},
   "outputs": [],
   "source": [
    "target = 'winPlacePerc'\n",
    "cols_to_drop = ['Id', 'groupId', 'matchId', target]\n",
    "cols_to_fit = [col for col in df.columns if col not in cols_to_drop]"
   ]
  },
  {
   "cell_type": "code",
   "execution_count": 75,
   "metadata": {},
   "outputs": [
    {
     "name": "stdout",
     "output_type": "stream",
     "text": [
      "(444697, 25)\n",
      "(444697,)\n",
      "12\n",
      "(444697, 25)\n"
     ]
    },
    {
     "name": "stderr",
     "output_type": "stream",
     "text": [
      "/Users/axeljeremy/anaconda3/lib/python3.6/site-packages/sklearn/preprocessing/_encoders.py:363: FutureWarning: The handling of integer data will change in version 0.22. Currently, the categories are determined based on the range [0, max(values)], while in the future they will be determined based on the unique values.\n",
      "If you want the future behaviour and silence this warning, you can specify \"categories='auto'\".\n",
      "In case you used a LabelEncoder before this OneHotEncoder to convert the categories to integers, then you can now use the OneHotEncoder directly.\n",
      "  warnings.warn(msg, FutureWarning)\n",
      "/Users/axeljeremy/anaconda3/lib/python3.6/site-packages/sklearn/preprocessing/_encoders.py:385: DeprecationWarning: The 'categorical_features' keyword is deprecated in version 0.20 and will be removed in 0.22. You can use the ColumnTransformer instead.\n",
      "  \"use the ColumnTransformer instead.\", DeprecationWarning)\n"
     ]
    },
    {
     "name": "stdout",
     "output_type": "stream",
     "text": [
      "(444697, 40)\n",
      "(444697, 39)\n"
     ]
    }
   ],
   "source": [
    "# Separating X and y\n",
    "X = df[cols_to_fit].values\n",
    "y = df['winPlacePerc'].values\n",
    "# y = np.array(y).reshape(-1,1)\n",
    "print(X.shape)\n",
    "print(y.shape)\n",
    "print(train[cols_to_fit].columns.get_loc(\"matchType\"))\n",
    "# Encoding categorical data named matchType\n",
    "from sklearn.preprocessing import LabelEncoder, OneHotEncoder\n",
    "labelencoder_X_1 = LabelEncoder()\n",
    "X[:, 12] = labelencoder_X_1.fit_transform(X[:, 12])\n",
    "print(X.shape)\n",
    "onehotencoder = OneHotEncoder(categorical_features = [12])\n",
    "X = onehotencoder.fit_transform(X).toarray()\n",
    "print(X.shape)\n",
    "X = X[:, 1:] # removing first, so need to know first var name\n",
    "print(X.shape)"
   ]
  },
  {
   "cell_type": "markdown",
   "metadata": {},
   "source": [
    "# Splitting the dataset into the Training set and Test set"
   ]
  },
  {
   "cell_type": "code",
   "execution_count": 39,
   "metadata": {},
   "outputs": [],
   "source": [
    "from sklearn.model_selection import train_test_split"
   ]
  },
  {
   "cell_type": "code",
   "execution_count": 76,
   "metadata": {},
   "outputs": [],
   "source": [
    "X_train, X_test, y_train, y_test = train_test_split(X, y, test_size = 0.1, random_state = 7)"
   ]
  },
  {
   "cell_type": "code",
   "execution_count": 17,
   "metadata": {},
   "outputs": [],
   "source": [
    "# Fitting XGBoost \n",
    "from sklearn.metrics import mean_absolute_error\n",
    "from xgboost import XGBRegressor"
   ]
  },
  {
   "cell_type": "markdown",
   "metadata": {},
   "source": [
    "# Fitting XGBoost"
   ]
  },
  {
   "cell_type": "code",
   "execution_count": 77,
   "metadata": {},
   "outputs": [
    {
     "name": "stdout",
     "output_type": "stream",
     "text": [
      "01:03:35.275623\n",
      "01:04:09.920113\n",
      "34.644536s\n"
     ]
    }
   ],
   "source": [
    "start = ptime()\n",
    "model_v1 = XGBRegressor()\n",
    "model_v1.fit(X_train,y_train)\n",
    "execution_time = ptime() - start\n",
    "ptime2(execution_time)"
   ]
  },
  {
   "cell_type": "code",
   "execution_count": 47,
   "metadata": {},
   "outputs": [],
   "source": [
    "def mae(X_to_test, y_to_test, model_to_test):\n",
    "    start = ptime()\n",
    "    y_pred_test = model_to_test.predict(X_to_test)\n",
    "    mae =  mean_absolute_error(y_to_test, y_pred_test)\n",
    "    execution_time = ptime() - start\n",
    "    ptime2(execution_time)\n",
    "    return mae"
   ]
  },
  {
   "cell_type": "markdown",
   "metadata": {},
   "source": [
    "# MAE Training"
   ]
  },
  {
   "cell_type": "code",
   "execution_count": 78,
   "metadata": {},
   "outputs": [
    {
     "name": "stdout",
     "output_type": "stream",
     "text": [
      "01:04:13.153669\n",
      "01:04:14.187931\n",
      "1.034251s\n",
      "0.06925197777684033\n"
     ]
    }
   ],
   "source": [
    "mae_v1_train = mae(X_to_test=X_train, y_to_test= y_train,model_to_test=model_v1)\n",
    "print(mae_v1_train)"
   ]
  },
  {
   "cell_type": "markdown",
   "metadata": {},
   "source": [
    "# MAE Test"
   ]
  },
  {
   "cell_type": "code",
   "execution_count": 79,
   "metadata": {},
   "outputs": [
    {
     "name": "stdout",
     "output_type": "stream",
     "text": [
      "01:04:17.328290\n",
      "01:04:17.462732\n",
      "0.134457s\n",
      "0.06939059569316042\n"
     ]
    }
   ],
   "source": [
    "mae_v1_test = mae(X_to_test=X_test, y_to_test=y_test,model_to_test=model_v1 )\n",
    "print(mae_v1_test)"
   ]
  },
  {
   "cell_type": "markdown",
   "metadata": {},
   "source": [
    "# Plot model_v1"
   ]
  },
  {
   "cell_type": "code",
   "execution_count": 80,
   "metadata": {},
   "outputs": [
    {
     "data": {
      "image/png": "[encoded data removed]",
      "text/plain": [
       "<Figure size 720x432 with 1 Axes>"
      ]
     },
     "metadata": {
      "needs_background": "light"
     },
     "output_type": "display_data"
    }
   ],
   "source": [
    "feature_importance = pd.DataFrame(sorted(zip(model_v1.feature_importances_, cols_to_fit)), columns=['Value','Feature'])\n",
    "plt.figure(figsize=(10, 6))\n",
    "sns.barplot(x=\"Value\", y=\"Feature\", data=feature_importance.sort_values(by=\"Value\", ascending=False))\n",
    "plt.title('XGBoost Features Small Train - model_v1')\n",
    "plt.tight_layout()"
   ]
  },
  {
   "cell_type": "markdown",
   "metadata": {},
   "source": [
    "# NEW XGBoost"
   ]
  },
  {
   "cell_type": "code",
   "execution_count": 52,
   "metadata": {},
   "outputs": [
    {
     "name": "stdout",
     "output_type": "stream",
     "text": [
      "00:39:38.961324\n",
      "00:41:55.124842\n",
      "136.163507s\n"
     ]
    }
   ],
   "source": [
    "target = 'winPlacePerc'\n",
    "cols_to_drop = ['Id', 'groupId', 'matchId', 'matchType',target]\n",
    "cols_to_fit = [col for col in df.columns if col not in cols_to_drop]\n",
    "\n",
    "# Separating X and y\n",
    "X = df[cols_to_fit].values\n",
    "y = df['winPlacePerc'].values\n",
    "# y = np.array(y).reshape(-1,1)\n",
    "print(X.shape)\n",
    "print(y.shape)\n",
    "\n",
    "X_train, X_test, y_train, y_test = train_test_split(X, y, test_size = 0.1, random_state = 7)\n",
    "\n",
    "start = ptime()\n",
    "model_v12 = XGBRegressor(max_depth=10, learning_rate=0.5)\n",
    "model_v12.fit(X_train,y_train)\n",
    "execution_time = ptime() - start\n",
    "ptime2(execution_time)"
   ]
  },
  {
   "cell_type": "markdown",
   "metadata": {},
   "source": [
    "# MAE Training"
   ]
  },
  {
   "cell_type": "code",
   "execution_count": 53,
   "metadata": {},
   "outputs": [
    {
     "name": "stdout",
     "output_type": "stream",
     "text": [
      "00:43:14.506947\n",
      "00:43:18.960182\n",
      "4.453279s\n",
      "0.04464940310593986\n"
     ]
    }
   ],
   "source": [
    "mae_v12_train = mae(X_to_test=X_train, y_to_test= y_train,model_to_test=model_v12)\n",
    "print(mae_v12_train)"
   ]
  },
  {
   "cell_type": "markdown",
   "metadata": {},
   "source": [
    "# MAE Test"
   ]
  },
  {
   "cell_type": "code",
   "execution_count": 54,
   "metadata": {},
   "outputs": [
    {
     "name": "stdout",
     "output_type": "stream",
     "text": [
      "00:43:23.478323\n",
      "00:43:23.953538\n",
      "0.475269s\n",
      "0.061193029129266586\n"
     ]
    }
   ],
   "source": [
    "mae_v12_test = mae(X_to_test=X_test, y_to_test=y_test,model_to_test=model_v12 )\n",
    "print(mae_v12_test)"
   ]
  },
  {
   "cell_type": "markdown",
   "metadata": {},
   "source": [
    "# Plot model_v12"
   ]
  },
  {
   "cell_type": "code",
   "execution_count": 57,
   "metadata": {},
   "outputs": [
    {
     "data": {
      "image/png": "[encoded data removed]",
      "text/plain": [
       "<Figure size 720x432 with 1 Axes>"
      ]
     },
     "metadata": {
      "needs_background": "light"
     },
     "output_type": "display_data"
    }
   ],
   "source": [
    "feature_importance = pd.DataFrame(sorted(zip(model_v12.feature_importances_, cols_to_fit)), columns=['Value','Feature'])\n",
    "plt.figure(figsize=(10, 6))\n",
    "sns.barplot(x=\"Value\", y=\"Feature\", data=feature_importance.sort_values(by=\"Value\", ascending=False))\n",
    "plt.title('XGBoost Features Small Train - model_v12')\n",
    "plt.tight_layout()"
   ]
  },
  {
   "cell_type": "markdown",
   "metadata": {},
   "source": [
    "# "
   ]
  },
  {
   "cell_type": "markdown",
   "metadata": {},
   "source": [
    "\n",
    "\n",
    "\n",
    "# With no matchType"
   ]
  },
  {
   "cell_type": "markdown",
   "metadata": {},
   "source": [
    "# Getting X AND Y"
   ]
  },
  {
   "cell_type": "code",
   "execution_count": 55,
   "metadata": {},
   "outputs": [
    {
     "name": "stdout",
     "output_type": "stream",
     "text": [
      "(444697, 24)\n",
      "(444697,)\n"
     ]
    }
   ],
   "source": [
    "target = 'winPlacePerc'\n",
    "cols_to_drop = ['Id', 'groupId', 'matchId', 'matchType',target]\n",
    "cols_to_fit = [col for col in df.columns if col not in cols_to_drop]\n",
    "\n",
    "# Separating X and y\n",
    "X = df[cols_to_fit].values\n",
    "y = df['winPlacePerc'].values\n",
    "# y = np.array(y).reshape(-1,1)\n",
    "print(X.shape)\n",
    "print(y.shape)"
   ]
  },
  {
   "cell_type": "markdown",
   "metadata": {},
   "source": [
    "# Splitting Dataset"
   ]
  },
  {
   "cell_type": "code",
   "execution_count": 59,
   "metadata": {},
   "outputs": [],
   "source": [
    "X_train, X_test, y_train, y_test = train_test_split(X, y, test_size = 0.1, random_state = 7)"
   ]
  },
  {
   "cell_type": "markdown",
   "metadata": {},
   "source": [
    "# Fitting XGBoost"
   ]
  },
  {
   "cell_type": "code",
   "execution_count": 60,
   "metadata": {},
   "outputs": [
    {
     "name": "stdout",
     "output_type": "stream",
     "text": [
      "00:50:38.429705\n",
      "00:51:07.215882\n",
      "28.785959s\n"
     ]
    }
   ],
   "source": [
    "start = ptime()\n",
    "model_v21 = XGBRegressor()\n",
    "model_v21.fit(X_train,y_train)\n",
    "execution_time = ptime() - start\n",
    "ptime2(execution_time)"
   ]
  },
  {
   "cell_type": "markdown",
   "metadata": {},
   "source": [
    "# MAE Train"
   ]
  },
  {
   "cell_type": "code",
   "execution_count": 61,
   "metadata": {},
   "outputs": [
    {
     "name": "stdout",
     "output_type": "stream",
     "text": [
      "00:51:46.288869\n",
      "00:51:47.208338\n",
      "0.919485s\n",
      "0.06946676447117704\n"
     ]
    }
   ],
   "source": [
    "mae_v21_train = mae(X_to_test=X_train, y_to_test= y_train,model_to_test=model_v21)\n",
    "print(mae_v21_train)"
   ]
  },
  {
   "cell_type": "markdown",
   "metadata": {},
   "source": [
    "# MAE Test"
   ]
  },
  {
   "cell_type": "code",
   "execution_count": 62,
   "metadata": {},
   "outputs": [
    {
     "name": "stdout",
     "output_type": "stream",
     "text": [
      "00:51:50.637113\n",
      "00:51:50.758722\n",
      "0.121426s\n",
      "0.06963985991544555\n"
     ]
    }
   ],
   "source": [
    "mae_v21_test = mae(X_to_test=X_test, y_to_test=y_test,model_to_test=model_v21 )\n",
    "print(mae_v21_test)"
   ]
  },
  {
   "cell_type": "markdown",
   "metadata": {},
   "source": [
    "# Feature Plot model_v21"
   ]
  },
  {
   "cell_type": "code",
   "execution_count": 63,
   "metadata": {},
   "outputs": [
    {
     "data": {
      "image/png": "[encoded data removed]",
      "text/plain": [
       "<Figure size 720x432 with 1 Axes>"
      ]
     },
     "metadata": {
      "needs_background": "light"
     },
     "output_type": "display_data"
    }
   ],
   "source": [
    "feature_importance = pd.DataFrame(sorted(zip(model_v21.feature_importances_, cols_to_fit)), columns=['Value','Feature'])\n",
    "plt.figure(figsize=(10, 6))\n",
    "sns.barplot(x=\"Value\", y=\"Feature\", data=feature_importance.sort_values(by=\"Value\", ascending=False))\n",
    "plt.title('XGBoost Features Small Train - model_v21')\n",
    "plt.tight_layout()"
   ]
  },
  {
   "cell_type": "markdown",
   "metadata": {},
   "source": [
    "# NEW XGBoost"
   ]
  },
  {
   "cell_type": "code",
   "execution_count": 68,
   "metadata": {},
   "outputs": [
    {
     "name": "stdout",
     "output_type": "stream",
     "text": [
      "00:55:43.928025\n",
      "00:57:22.799732\n",
      "98.871691s\n"
     ]
    }
   ],
   "source": [
    "start = ptime()\n",
    "model_v22 = XGBRegressor(max_depth=10, learning_rate=0.5)\n",
    "model_v22.fit(X_train,y_train)\n",
    "execution_time = ptime() - start\n",
    "ptime2(execution_time)"
   ]
  },
  {
   "cell_type": "markdown",
   "metadata": {},
   "source": [
    "# MAE Train"
   ]
  },
  {
   "cell_type": "code",
   "execution_count": 69,
   "metadata": {},
   "outputs": [
    {
     "name": "stdout",
     "output_type": "stream",
     "text": [
      "01:01:39.708898\n",
      "01:01:44.202427\n",
      "4.493534s\n",
      "0.04524507567687471\n"
     ]
    }
   ],
   "source": [
    "mae_v22_train = mae(X_to_test=X_train, y_to_test= y_train,model_to_test=model_v22)\n",
    "print(mae_v22_train)"
   ]
  },
  {
   "cell_type": "markdown",
   "metadata": {},
   "source": [
    "# MAE Test"
   ]
  },
  {
   "cell_type": "code",
   "execution_count": 70,
   "metadata": {},
   "outputs": [
    {
     "name": "stdout",
     "output_type": "stream",
     "text": [
      "01:01:46.784825\n",
      "01:01:47.269123\n",
      "0.484228s\n",
      "0.06193101354318066\n"
     ]
    }
   ],
   "source": [
    "mae_v22_test = mae(X_to_test=X_test, y_to_test=y_test,model_to_test=model_v22 )\n",
    "print(mae_v22_test)"
   ]
  },
  {
   "cell_type": "markdown",
   "metadata": {},
   "source": [
    "# Feature Plot model_v22"
   ]
  },
  {
   "cell_type": "code",
   "execution_count": 72,
   "metadata": {},
   "outputs": [
    {
     "data": {
      "image/png": "[encoded data removed]",
      "text/plain": [
       "<Figure size 720x432 with 1 Axes>"
      ]
     },
     "metadata": {
      "needs_background": "light"
     },
     "output_type": "display_data"
    }
   ],
   "source": [
    "feature_importance = pd.DataFrame(sorted(zip(model_v22.feature_importances_, cols_to_fit)), columns=['Value','Feature'])\n",
    "plt.figure(figsize=(10, 6))\n",
    "sns.barplot(x=\"Value\", y=\"Feature\", data=feature_importance.sort_values(by=\"Value\", ascending=False))\n",
    "plt.title('XGBoost Features Small Train - model_v22')\n",
    "plt.tight_layout()"
   ]
  },
  {
   "cell_type": "code",
   "execution_count": 84,
   "metadata": {},
   "outputs": [
    {
     "name": "stdout",
     "output_type": "stream",
     "text": [
      "XGBRegressor(base_score=0.5, booster='gbtree', colsample_bylevel=1,\n",
      "       colsample_bytree=1, gamma=0, learning_rate=0.5, max_delta_step=0,\n",
      "       max_depth=10, min_child_weight=1, missing=None, n_estimators=100,\n",
      "       n_jobs=1, nthread=None, objective='reg:linear', random_state=0,\n",
      "       reg_alpha=0, reg_lambda=1, scale_pos_weight=1, seed=None,\n",
      "       silent=True, subsample=1)\n"
     ]
    }
   ],
   "source": [
    "print(model_v22)"
   ]
  },
  {
   "cell_type": "code",
   "execution_count": 86,
   "metadata": {},
   "outputs": [
    {
     "data": {
      "text/plain": [
       "['model_v12_normal.pkl']"
      ]
     },
     "execution_count": 86,
     "metadata": {},
     "output_type": "execute_result"
    }
   ],
   "source": [
    "from sklearn.externals import joblib\n",
    "# Save to file in the current working directory\n",
    "joblib_file = \"model_v22_normal.pkl\"  \n",
    "joblib.dump(model_v22, joblib_file)\n",
    "\n",
    "joblib_file = \"model_v21_normal.pkl\"  \n",
    "joblib.dump(model_v21, joblib_file)\n",
    "\n",
    "joblib_file = \"model_v1_normal.pkl\"  \n",
    "joblib.dump(model_v1, joblib_file)\n",
    "\n",
    "joblib_file = \"model_v12_normal.pkl\"  \n",
    "joblib.dump(model_v12, joblib_file)\n",
    "\n",
    "# Load from file\n",
    "# joblib_model = joblib.load(joblib_file)"
   ]
  },
  {
   "cell_type": "code",
   "execution_count": null,
   "metadata": {},
   "outputs": [],
   "source": []
  }
 ],
 "metadata": {
  "kernelspec": {
   "display_name": "Python 3",
   "language": "python",
   "name": "python3"
  },
  "language_info": {
   "codemirror_mode": {
    "name": "ipython",
    "version": 3
   },
   "file_extension": ".py",
   "mimetype": "text/x-python",
   "name": "python",
   "nbconvert_exporter": "python",
   "pygments_lexer": "ipython3",
   "version": "3.6.6"
  }
 },
 "nbformat": 4,
 "nbformat_minor": 2
}
