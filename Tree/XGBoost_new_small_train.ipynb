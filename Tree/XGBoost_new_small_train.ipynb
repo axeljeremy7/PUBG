{
 "cells": [
  {
   "cell_type": "code",
   "execution_count": 2,
   "metadata": {},
   "outputs": [
    {
     "data": {
      "text/plain": [
       "11"
      ]
     },
     "execution_count": 2,
     "metadata": {},
     "output_type": "execute_result"
    }
   ],
   "source": [
    "import gc\n",
    "import time\n",
    "import numpy as np\n",
    "import pandas as pd\n",
    "import matplotlib.pyplot as plt\n",
    "import seaborn as sns\n",
    "import random\n",
    "import datetime\n",
    "random.seed(7)\n",
    "gc.collect()"
   ]
  },
  {
   "cell_type": "code",
   "execution_count": 3,
   "metadata": {},
   "outputs": [
    {
     "name": "stdout",
     "output_type": "stream",
     "text": [
      "01:27:10.720998\n",
      "01:27:10.721133\n",
      "7.4e-05s\n"
     ]
    }
   ],
   "source": [
    "def ptime():\n",
    "    print(datetime.datetime.now().time())\n",
    "    return time.time()\n",
    "start = ptime()\n",
    "execution_time = ptime() - start\n",
    "def ptime2(execution_time):\n",
    "    print(f'{round(execution_time, 6)}s')\n",
    "ptime2(execution_time)"
   ]
  },
  {
   "cell_type": "code",
   "execution_count": 4,
   "metadata": {},
   "outputs": [],
   "source": [
    "def read_dataset(path):\n",
    "    start = ptime()\n",
    "    gc.collect()\n",
    "    df = pd.read_csv(path)\n",
    "    print(df.shape)\n",
    "    df = df.dropna()\n",
    "    print(df.shape)\n",
    "    execution_time = ptime() - start\n",
    "    ptime2(execution_time)\n",
    "    return df\n",
    "\n",
    "def reduce_mem_usage(df):\n",
    "    start = ptime()\n",
    "    start_mem = df.memory_usage().sum() / 1024**2\n",
    "    print('Memory usage of dataframe is {:.6f} MB'.format(start_mem))\n",
    "    \n",
    "    cols_to_drop = ['Id', 'groupId', 'matchId', 'winPlacePerc']\n",
    "    features = [col for col in df.columns if col not in cols_to_drop]\n",
    "    for col in features:\n",
    "        col_type = df[col].dtype\n",
    "\n",
    "        if col_type != object:\n",
    "            c_min = df[col].min()\n",
    "            c_max = df[col].max()\n",
    "            if str(col_type)[:3] == 'int':\n",
    "                if c_min > np.iinfo(np.int8).min and c_max < np.iinfo(np.int8).max:\n",
    "                    df[col] = df[col].astype(np.int8)\n",
    "                elif c_min > np.iinfo(np.int16).min and c_max < np.iinfo(np.int16).max:\n",
    "                    df[col] = df[col].astype(np.int16)\n",
    "                elif c_min > np.iinfo(np.int32).min and c_max < np.iinfo(np.int32).max:\n",
    "                    df[col] = df[col].astype(np.int32)\n",
    "                elif c_min > np.iinfo(np.int64).min and c_max < np.iinfo(np.int64).max:\n",
    "                    df[col] = df[col].astype(np.int64)  \n",
    "            else:\n",
    "                if c_min > np.finfo(np.float16).min and c_max < np.finfo(np.float16).max:\n",
    "                    df[col] = df[col].astype(np.float16)\n",
    "                elif c_min > np.finfo(np.float32).min and c_max < np.finfo(np.float32).max:\n",
    "                    df[col] = df[col].astype(np.float32)\n",
    "                else:\n",
    "                    df[col] = df[col].astype(np.float64)\n",
    "    \n",
    "    execution_time = ptime() - start\n",
    "    ptime2(execution_time)\n",
    "    end_mem = df.memory_usage().sum() / 1024**2\n",
    "    print('Memory usage after optimization is: {:.6f} MB'.format(end_mem))\n",
    "    print('Decreased by {:.1f}%'.format(100 * (start_mem - end_mem) / start_mem))\n",
    "    return df\n",
    "\n",
    "def mae(X_to_test, y_to_test, model_to_test):\n",
    "    start = ptime()\n",
    "    y_pred_test = model_to_test.predict(X_to_test)\n",
    "    mae =  mean_absolute_error(y_to_test, y_pred_test)\n",
    "    execution_time = ptime() - start\n",
    "    ptime2(execution_time)\n",
    "    return mae"
   ]
  },
  {
   "cell_type": "code",
   "execution_count": 6,
   "metadata": {},
   "outputs": [
    {
     "name": "stdout",
     "output_type": "stream",
     "text": [
      "01:28:54.243771\n",
      "(444697, 37)\n",
      "(444697, 37)\n",
      "01:28:57.918130\n",
      "3.674333s\n"
     ]
    }
   ],
   "source": [
    "df = read_dataset('../data/small_train_FE.csv')"
   ]
  },
  {
   "cell_type": "code",
   "execution_count": 7,
   "metadata": {},
   "outputs": [
    {
     "data": {
      "text/plain": [
       "(444697, 37)"
      ]
     },
     "execution_count": 7,
     "metadata": {},
     "output_type": "execute_result"
    }
   ],
   "source": [
    "df.shape"
   ]
  },
  {
   "cell_type": "code",
   "execution_count": 8,
   "metadata": {},
   "outputs": [
    {
     "name": "stdout",
     "output_type": "stream",
     "text": [
      "01:29:16.815621\n",
      "Memory usage of dataframe is 128.925217 MB\n",
      "01:29:17.261398\n",
      "0.4457s\n",
      "Memory usage after optimization is: 40.289130 MB\n",
      "Decreased by 68.8%\n"
     ]
    },
    {
     "data": {
      "text/plain": [
       "(444697, 37)"
      ]
     },
     "execution_count": 8,
     "metadata": {},
     "output_type": "execute_result"
    }
   ],
   "source": [
    "df = reduce_mem_usage(df)\n",
    "df.shape"
   ]
  },
  {
   "cell_type": "code",
   "execution_count": 10,
   "metadata": {
    "scrolled": true
   },
   "outputs": [
    {
     "name": "stdout",
     "output_type": "stream",
     "text": [
      "<class 'pandas.core.frame.DataFrame'>\n",
      "Int64Index: 444697 entries, 0 to 444696\n",
      "Data columns (total 37 columns):\n",
      "Id                          444697 non-null object\n",
      "groupId                     444697 non-null object\n",
      "matchId                     444697 non-null object\n",
      "assists                     444697 non-null int8\n",
      "boosts                      444697 non-null int8\n",
      "damageDealt                 444697 non-null float16\n",
      "DBNOs                       444697 non-null int8\n",
      "headshotKills               444697 non-null int8\n",
      "heals                       444697 non-null int8\n",
      "killPlace                   444697 non-null int8\n",
      "killPoints                  444697 non-null int16\n",
      "kills                       444697 non-null int8\n",
      "killStreaks                 444697 non-null int8\n",
      "longestKill                 444697 non-null float16\n",
      "matchDuration               444697 non-null int16\n",
      "matchType                   444697 non-null object\n",
      "maxPlace                    444697 non-null int8\n",
      "numGroups                   444697 non-null int8\n",
      "rankPoints                  444697 non-null int16\n",
      "revives                     444697 non-null int8\n",
      "rideDistance                444697 non-null float16\n",
      "roadKills                   444697 non-null int8\n",
      "swimDistance                444697 non-null float16\n",
      "teamKills                   444697 non-null int8\n",
      "vehicleDestroys             444697 non-null int8\n",
      "walkDistance                444697 non-null float16\n",
      "weaponsAcquired             444697 non-null int8\n",
      "winPoints                   444697 non-null int16\n",
      "healsandboosts              444697 non-null int8\n",
      "total_distance              444697 non-null float16\n",
      "headshotKills_over_kills    444697 non-null float16\n",
      "killPlace_over_maxPlace     444697 non-null float16\n",
      "walkDistance_over_heals     444697 non-null float16\n",
      "walkDistance_over_boosts    444697 non-null float16\n",
      "walkDistance_over_kills     444697 non-null float16\n",
      "teamwork                    444697 non-null int8\n",
      "winPlacePerc                444697 non-null float64\n",
      "dtypes: float16(11), float64(1), int16(4), int8(17), object(4)\n",
      "memory usage: 40.3+ MB\n"
     ]
    }
   ],
   "source": [
    "df.info()"
   ]
  },
  {
   "cell_type": "code",
   "execution_count": 12,
   "metadata": {},
   "outputs": [
    {
     "name": "stdout",
     "output_type": "stream",
     "text": [
      "['duo' 'squad' 'squad-fpp' 'solo-fpp' 'duo-fpp' 'solo' 'normal-squad-fpp'\n",
      " 'flaretpp' 'normal-duo-fpp' 'normal-squad' 'crashfpp' 'normal-solo-fpp'\n",
      " 'crashtpp' 'normal-solo' 'flarefpp' 'normal-duo']\n",
      "16\n"
     ]
    }
   ],
   "source": [
    "matchTypeList = df['matchType'].unique()\n",
    "print(matchTypeList)\n",
    "print(len(matchTypeList))"
   ]
  },
  {
   "cell_type": "code",
   "execution_count": 13,
   "metadata": {},
   "outputs": [
    {
     "data": {
      "text/plain": [
       "(444697, 33)"
      ]
     },
     "execution_count": 13,
     "metadata": {},
     "output_type": "execute_result"
    }
   ],
   "source": [
    "cols_to_drop = ['Id', 'groupId', 'matchId', 'winPlacePerc']\n",
    "features = [col for col in df.columns if col not in cols_to_drop]\n",
    "df[features].shape"
   ]
  },
  {
   "cell_type": "code",
   "execution_count": 14,
   "metadata": {},
   "outputs": [
    {
     "name": "stdout",
     "output_type": "stream",
     "text": [
      "[(0, 'assists'), (1, 'boosts'), (2, 'damageDealt'), (3, 'DBNOs'), (4, 'headshotKills'), (5, 'heals'), (6, 'killPlace'), (7, 'killPoints'), (8, 'kills'), (9, 'killStreaks'), (10, 'longestKill'), (11, 'matchDuration'), (12, 'matchType'), (13, 'maxPlace'), (14, 'numGroups'), (15, 'rankPoints'), (16, 'revives'), (17, 'rideDistance'), (18, 'roadKills'), (19, 'swimDistance'), (20, 'teamKills'), (21, 'vehicleDestroys'), (22, 'walkDistance'), (23, 'weaponsAcquired'), (24, 'winPoints'), (25, 'healsandboosts'), (26, 'total_distance'), (27, 'headshotKills_over_kills'), (28, 'killPlace_over_maxPlace'), (29, 'walkDistance_over_heals'), (30, 'walkDistance_over_boosts'), (31, 'walkDistance_over_kills'), (32, 'teamwork')]\n"
     ]
    }
   ],
   "source": [
    "print([(df[features].columns.get_loc(c),c) for c in df[features].columns])"
   ]
  },
  {
   "cell_type": "markdown",
   "metadata": {},
   "source": [
    "# WITH matchType"
   ]
  },
  {
   "cell_type": "markdown",
   "metadata": {},
   "source": [
    "# GETTING X AND Y "
   ]
  },
  {
   "cell_type": "code",
   "execution_count": 29,
   "metadata": {},
   "outputs": [],
   "source": [
    "target = 'winPlacePerc'\n",
    "cols_to_drop = ['Id', 'groupId', 'matchId', target]\n",
    "cols_to_fit = [col for col in df.columns if col not in cols_to_drop]"
   ]
  },
  {
   "cell_type": "code",
   "execution_count": 16,
   "metadata": {},
   "outputs": [
    {
     "name": "stdout",
     "output_type": "stream",
     "text": [
      "(444697, 33)\n",
      "(444697,)\n",
      "12\n",
      "(444697, 33)\n"
     ]
    },
    {
     "name": "stderr",
     "output_type": "stream",
     "text": [
      "/Users/axeljeremy/anaconda3/lib/python3.6/site-packages/sklearn/preprocessing/_encoders.py:363: FutureWarning: The handling of integer data will change in version 0.22. Currently, the categories are determined based on the range [0, max(values)], while in the future they will be determined based on the unique values.\n",
      "If you want the future behaviour and silence this warning, you can specify \"categories='auto'\".\n",
      "In case you used a LabelEncoder before this OneHotEncoder to convert the categories to integers, then you can now use the OneHotEncoder directly.\n",
      "  warnings.warn(msg, FutureWarning)\n",
      "/Users/axeljeremy/anaconda3/lib/python3.6/site-packages/sklearn/preprocessing/_encoders.py:385: DeprecationWarning: The 'categorical_features' keyword is deprecated in version 0.20 and will be removed in 0.22. You can use the ColumnTransformer instead.\n",
      "  \"use the ColumnTransformer instead.\", DeprecationWarning)\n"
     ]
    },
    {
     "name": "stdout",
     "output_type": "stream",
     "text": [
      "(444697, 48)\n",
      "(444697, 47)\n"
     ]
    }
   ],
   "source": [
    "# Separating X and y\n",
    "X = df[cols_to_fit].values\n",
    "y = df['winPlacePerc'].values\n",
    "# y = np.array(y).reshape(-1,1)\n",
    "print(X.shape)\n",
    "print(y.shape)\n",
    "print(df[cols_to_fit].columns.get_loc(\"matchType\"))\n",
    "\n",
    "# Encoding categorical data named matchType\n",
    "from sklearn.preprocessing import LabelEncoder, OneHotEncoder\n",
    "labelencoder_X_1 = LabelEncoder()\n",
    "X[:, 12] = labelencoder_X_1.fit_transform(X[:, 12])\n",
    "print(X.shape)\n",
    "onehotencoder = OneHotEncoder(categorical_features = [12])\n",
    "X = onehotencoder.fit_transform(X).toarray()\n",
    "print(X.shape)\n",
    "X = X[:, 1:] # removing first, so need to know first var name\n",
    "print(X.shape)"
   ]
  },
  {
   "cell_type": "markdown",
   "metadata": {},
   "source": [
    "# Splitting the dataset into the Training set and Test set"
   ]
  },
  {
   "cell_type": "code",
   "execution_count": 21,
   "metadata": {},
   "outputs": [],
   "source": [
    "from sklearn.model_selection import train_test_split"
   ]
  },
  {
   "cell_type": "code",
   "execution_count": 22,
   "metadata": {},
   "outputs": [],
   "source": [
    "X_train, X_test, y_train, y_test = train_test_split(X, y, test_size = 0.1, random_state = 7)"
   ]
  },
  {
   "cell_type": "markdown",
   "metadata": {},
   "source": [
    "# FITTING XGBOOST"
   ]
  },
  {
   "cell_type": "code",
   "execution_count": 23,
   "metadata": {},
   "outputs": [],
   "source": [
    "from sklearn.metrics import mean_absolute_error\n",
    "from xgboost import XGBRegressor"
   ]
  },
  {
   "cell_type": "code",
   "execution_count": 24,
   "metadata": {},
   "outputs": [
    {
     "name": "stdout",
     "output_type": "stream",
     "text": [
      "01:36:19.847347\n",
      "01:37:06.662845\n",
      "46.815351s\n"
     ]
    }
   ],
   "source": [
    "start = ptime()\n",
    "model_v1 = XGBRegressor()\n",
    "model_v1.fit(X_train,y_train)\n",
    "execution_time = ptime() - start\n",
    "ptime2(execution_time)"
   ]
  },
  {
   "cell_type": "code",
   "execution_count": 28,
   "metadata": {},
   "outputs": [
    {
     "name": "stdout",
     "output_type": "stream",
     "text": [
      "XGBRegressor(base_score=0.5, booster='gbtree', colsample_bylevel=1,\n",
      "       colsample_bytree=1, gamma=0, learning_rate=0.1, max_delta_step=0,\n",
      "       max_depth=3, min_child_weight=1, missing=None, n_estimators=100,\n",
      "       n_jobs=1, nthread=None, objective='reg:linear', random_state=0,\n",
      "       reg_alpha=0, reg_lambda=1, scale_pos_weight=1, seed=None,\n",
      "       silent=True, subsample=1)\n"
     ]
    }
   ],
   "source": [
    "print(model_all)"
   ]
  },
  {
   "cell_type": "markdown",
   "metadata": {},
   "source": [
    "# MAE TRAIN"
   ]
  },
  {
   "cell_type": "code",
   "execution_count": 25,
   "metadata": {},
   "outputs": [
    {
     "name": "stdout",
     "output_type": "stream",
     "text": [
      "01:43:23.054839\n",
      "01:43:24.078357\n",
      "1.023339s\n",
      "0.06866783889702577\n"
     ]
    }
   ],
   "source": [
    "mae_v1_train = mae(X_to_test=X_train, y_to_test= y_train,model_to_test=model_v1)\n",
    "print(mae_v1_train)"
   ]
  },
  {
   "cell_type": "markdown",
   "metadata": {},
   "source": [
    "# MAE TEST"
   ]
  },
  {
   "cell_type": "code",
   "execution_count": 26,
   "metadata": {},
   "outputs": [
    {
     "name": "stdout",
     "output_type": "stream",
     "text": [
      "01:43:53.158091\n",
      "01:43:53.294789\n",
      "0.136577s\n",
      "0.06881869204451482\n"
     ]
    }
   ],
   "source": [
    "mae_v1_test = mae(X_to_test=X_test, y_to_test=y_test,model_to_test=model_v1 )\n",
    "print(mae_v1_test)"
   ]
  },
  {
   "cell_type": "markdown",
   "metadata": {},
   "source": [
    "# PLOT model_v1"
   ]
  },
  {
   "cell_type": "code",
   "execution_count": 30,
   "metadata": {},
   "outputs": [
    {
     "data": {
      "image/png": "[encoded data removed]",
      "text/plain": [
       "<Figure size 720x432 with 1 Axes>"
      ]
     },
     "metadata": {
      "needs_background": "light"
     },
     "output_type": "display_data"
    }
   ],
   "source": [
    "feature_importance = pd.DataFrame(sorted(zip(model_v1.feature_importances_, cols_to_fit)), columns=['Value','Feature'])\n",
    "plt.figure(figsize=(10, 6))\n",
    "sns.barplot(x=\"Value\", y=\"Feature\", data=feature_importance.sort_values(by=\"Value\", ascending=False))\n",
    "plt.title('XGBoost Features FE Small Train - model_v1')\n",
    "plt.tight_layout()"
   ]
  },
  {
   "cell_type": "markdown",
   "metadata": {},
   "source": [
    "# NEW XGBOOST"
   ]
  },
  {
   "cell_type": "code",
   "execution_count": 38,
   "metadata": {},
   "outputs": [],
   "source": [
    "target = 'winPlacePerc'\n",
    "cols_to_drop = ['Id', 'groupId', 'matchId',target]\n",
    "cols_to_fit = [col for col in df.columns if col not in cols_to_drop]"
   ]
  },
  {
   "cell_type": "code",
   "execution_count": 40,
   "metadata": {},
   "outputs": [
    {
     "name": "stdout",
     "output_type": "stream",
     "text": [
      "(444697, 33)\n",
      "(444697,)\n",
      "12\n",
      "(444697, 33)\n"
     ]
    },
    {
     "name": "stderr",
     "output_type": "stream",
     "text": [
      "/Users/axeljeremy/anaconda3/lib/python3.6/site-packages/sklearn/preprocessing/_encoders.py:363: FutureWarning: The handling of integer data will change in version 0.22. Currently, the categories are determined based on the range [0, max(values)], while in the future they will be determined based on the unique values.\n",
      "If you want the future behaviour and silence this warning, you can specify \"categories='auto'\".\n",
      "In case you used a LabelEncoder before this OneHotEncoder to convert the categories to integers, then you can now use the OneHotEncoder directly.\n",
      "  warnings.warn(msg, FutureWarning)\n",
      "/Users/axeljeremy/anaconda3/lib/python3.6/site-packages/sklearn/preprocessing/_encoders.py:385: DeprecationWarning: The 'categorical_features' keyword is deprecated in version 0.20 and will be removed in 0.22. You can use the ColumnTransformer instead.\n",
      "  \"use the ColumnTransformer instead.\", DeprecationWarning)\n"
     ]
    },
    {
     "name": "stdout",
     "output_type": "stream",
     "text": [
      "(444697, 48)\n",
      "(444697, 47)\n",
      "01:54:02.951093\n",
      "01:56:57.520817\n",
      "174.569798s\n"
     ]
    }
   ],
   "source": [
    "# Separating X and y\n",
    "X = df[cols_to_fit].values\n",
    "y = df['winPlacePerc'].values\n",
    "# y = np.array(y).reshape(-1,1)\n",
    "print(X.shape)\n",
    "print(y.shape)\n",
    "\n",
    "print(df[cols_to_fit].columns.get_loc(\"matchType\"))\n",
    "\n",
    "# Encoding categorical data named matchType\n",
    "from sklearn.preprocessing import LabelEncoder, OneHotEncoder\n",
    "labelencoder_X_1 = LabelEncoder()\n",
    "X[:, 12] = labelencoder_X_1.fit_transform(X[:, 12])\n",
    "print(X.shape)\n",
    "onehotencoder = OneHotEncoder(categorical_features = [12])\n",
    "X = onehotencoder.fit_transform(X).toarray()\n",
    "print(X.shape)\n",
    "X = X[:, 1:] # removing first, so need to know first var name\n",
    "print(X.shape)\n",
    "\n",
    "X_train, X_test, y_train, y_test = train_test_split(X, y, test_size = 0.1, random_state = 7)\n",
    "\n",
    "start = ptime()\n",
    "model_v12 = XGBRegressor(max_depth=10)\n",
    "model_v12.fit(X_train,y_train)\n",
    "execution_time = ptime() - start\n",
    "ptime2(execution_time)"
   ]
  },
  {
   "cell_type": "markdown",
   "metadata": {},
   "source": [
    "# MAE TRAIN"
   ]
  },
  {
   "cell_type": "code",
   "execution_count": 42,
   "metadata": {},
   "outputs": [
    {
     "name": "stdout",
     "output_type": "stream",
     "text": [
      "01:57:13.309323\n",
      "01:57:18.660394\n",
      "5.350941s\n",
      "0.051271081237670595\n"
     ]
    }
   ],
   "source": [
    "mae_v12_train = mae(X_to_test=X_train, y_to_test= y_train,model_to_test=model_v12)\n",
    "print(mae_v12_train)"
   ]
  },
  {
   "cell_type": "markdown",
   "metadata": {},
   "source": [
    "# MAE TEST"
   ]
  },
  {
   "cell_type": "code",
   "execution_count": 43,
   "metadata": {},
   "outputs": [
    {
     "name": "stdout",
     "output_type": "stream",
     "text": [
      "01:57:22.158477\n",
      "01:57:22.945152\n",
      "0.786516s\n",
      "0.05747944829337324\n"
     ]
    }
   ],
   "source": [
    "mae_v12_test = mae(X_to_test=X_test, y_to_test=y_test,model_to_test=model_v12 )\n",
    "print(mae_v12_test)"
   ]
  },
  {
   "cell_type": "markdown",
   "metadata": {},
   "source": [
    "# PLOT model_v12"
   ]
  },
  {
   "cell_type": "code",
   "execution_count": 44,
   "metadata": {},
   "outputs": [
    {
     "data": {
      "image/png": "[encoded data removed]",
      "text/plain": [
       "<Figure size 720x432 with 1 Axes>"
      ]
     },
     "metadata": {
      "needs_background": "light"
     },
     "output_type": "display_data"
    }
   ],
   "source": [
    "feature_importance = pd.DataFrame(sorted(zip(model_v12.feature_importances_, cols_to_fit)), columns=['Value','Feature'])\n",
    "plt.figure(figsize=(10, 6))\n",
    "sns.barplot(x=\"Value\", y=\"Feature\", data=feature_importance.sort_values(by=\"Value\", ascending=False))\n",
    "plt.title('XGBoost Features FE Small Train - model_v12')\n",
    "plt.tight_layout()"
   ]
  },
  {
   "cell_type": "markdown",
   "metadata": {},
   "source": [
    "# SECOND PART"
   ]
  },
  {
   "cell_type": "markdown",
   "metadata": {},
   "source": [
    "# WITH NO MATCHTYPE"
   ]
  },
  {
   "cell_type": "markdown",
   "metadata": {},
   "source": [
    "# GETTING X AND Y"
   ]
  },
  {
   "cell_type": "code",
   "execution_count": 45,
   "metadata": {},
   "outputs": [
    {
     "name": "stdout",
     "output_type": "stream",
     "text": [
      "(444697, 32)\n",
      "(444697,)\n"
     ]
    }
   ],
   "source": [
    "target = 'winPlacePerc'\n",
    "cols_to_drop = ['Id', 'groupId', 'matchId', 'matchType',target]\n",
    "cols_to_fit = [col for col in df.columns if col not in cols_to_drop]\n",
    "\n",
    "# Separating X and y\n",
    "X = df[cols_to_fit].values\n",
    "y = df['winPlacePerc'].values\n",
    "# y = np.array(y).reshape(-1,1)\n",
    "print(X.shape)\n",
    "print(y.shape)\n",
    "\n",
    "X_train, X_test, y_train, y_test = train_test_split(X, y, test_size = 0.1, random_state = 7)"
   ]
  },
  {
   "cell_type": "markdown",
   "metadata": {},
   "source": [
    "# FITTING XGBOOST"
   ]
  },
  {
   "cell_type": "code",
   "execution_count": 46,
   "metadata": {},
   "outputs": [
    {
     "name": "stdout",
     "output_type": "stream",
     "text": [
      "02:01:02.779309\n",
      "02:01:38.215653\n",
      "35.43641s\n"
     ]
    }
   ],
   "source": [
    "start = ptime()\n",
    "model_v21 = XGBRegressor()\n",
    "model_v21.fit(X_train,y_train)\n",
    "execution_time = ptime() - start\n",
    "ptime2(execution_time)"
   ]
  },
  {
   "cell_type": "markdown",
   "metadata": {},
   "source": [
    "# MAE TRAIN"
   ]
  },
  {
   "cell_type": "code",
   "execution_count": 47,
   "metadata": {},
   "outputs": [
    {
     "name": "stdout",
     "output_type": "stream",
     "text": [
      "02:01:41.991538\n",
      "02:01:43.026263\n",
      "1.03453s\n",
      "0.0686276412240065\n"
     ]
    }
   ],
   "source": [
    "mae_v21_train = mae(X_to_test=X_train, y_to_test= y_train,model_to_test=model_v21)\n",
    "print(mae_v21_train)"
   ]
  },
  {
   "cell_type": "markdown",
   "metadata": {},
   "source": [
    "# MAE TEST"
   ]
  },
  {
   "cell_type": "code",
   "execution_count": 48,
   "metadata": {},
   "outputs": [
    {
     "name": "stdout",
     "output_type": "stream",
     "text": [
      "02:01:49.059303\n",
      "02:01:49.190225\n",
      "0.130921s\n",
      "0.0687989183885745\n"
     ]
    }
   ],
   "source": [
    "mae_v21_test = mae(X_to_test=X_test, y_to_test=y_test,model_to_test=model_v21 )\n",
    "print(mae_v21_test)"
   ]
  },
  {
   "cell_type": "markdown",
   "metadata": {},
   "source": [
    "# PLOT "
   ]
  },
  {
   "cell_type": "code",
   "execution_count": 49,
   "metadata": {},
   "outputs": [
    {
     "data": {
      "image/png": "[encoded data removed]",
      "text/plain": [
       "<Figure size 720x432 with 1 Axes>"
      ]
     },
     "metadata": {
      "needs_background": "light"
     },
     "output_type": "display_data"
    }
   ],
   "source": [
    "feature_importance = pd.DataFrame(sorted(zip(model_v21.feature_importances_, cols_to_fit)), columns=['Value','Feature'])\n",
    "plt.figure(figsize=(10, 6))\n",
    "sns.barplot(x=\"Value\", y=\"Feature\", data=feature_importance.sort_values(by=\"Value\", ascending=False))\n",
    "plt.title('XGBoost Features FE Small Train - model_v21')\n",
    "plt.tight_layout()"
   ]
  },
  {
   "cell_type": "markdown",
   "metadata": {},
   "source": [
    "# FITTING NEW XGBOOST"
   ]
  },
  {
   "cell_type": "code",
   "execution_count": 50,
   "metadata": {},
   "outputs": [
    {
     "name": "stdout",
     "output_type": "stream",
     "text": [
      "02:02:32.251411\n",
      "02:04:39.920084\n",
      "127.668387s\n"
     ]
    }
   ],
   "source": [
    "start = ptime()\n",
    "model_v22 = XGBRegressor(max_depth=10, learning_rate=0.5)\n",
    "model_v22.fit(X_train,y_train)\n",
    "execution_time = ptime() - start\n",
    "ptime2(execution_time)"
   ]
  },
  {
   "cell_type": "markdown",
   "metadata": {},
   "source": [
    "# MAE TRAIN"
   ]
  },
  {
   "cell_type": "code",
   "execution_count": 51,
   "metadata": {},
   "outputs": [
    {
     "name": "stdout",
     "output_type": "stream",
     "text": [
      "02:05:18.297444\n",
      "02:05:22.229687\n",
      "3.932265s\n",
      "0.04427238264962771\n"
     ]
    }
   ],
   "source": [
    "mae_v22_train = mae(X_to_test=X_train, y_to_test= y_train,model_to_test=model_v22)\n",
    "print(mae_v22_train)"
   ]
  },
  {
   "cell_type": "markdown",
   "metadata": {},
   "source": [
    "# MAE TEST"
   ]
  },
  {
   "cell_type": "code",
   "execution_count": 52,
   "metadata": {},
   "outputs": [
    {
     "name": "stdout",
     "output_type": "stream",
     "text": [
      "02:05:24.680449\n",
      "02:05:25.260695\n",
      "0.580038s\n",
      "0.061641434936032344\n"
     ]
    }
   ],
   "source": [
    "mae_v22_test = mae(X_to_test=X_test, y_to_test=y_test,model_to_test=model_v22 )\n",
    "print(mae_v22_test)"
   ]
  },
  {
   "cell_type": "markdown",
   "metadata": {},
   "source": [
    "# PLOT "
   ]
  },
  {
   "cell_type": "code",
   "execution_count": 53,
   "metadata": {},
   "outputs": [
    {
     "data": {
      "image/png": "[encoded data removed]",
      "text/plain": [
       "<Figure size 720x432 with 1 Axes>"
      ]
     },
     "metadata": {
      "needs_background": "light"
     },
     "output_type": "display_data"
    }
   ],
   "source": [
    "feature_importance = pd.DataFrame(sorted(zip(model_v22.feature_importances_, cols_to_fit)), columns=['Value','Feature'])\n",
    "plt.figure(figsize=(10, 6))\n",
    "sns.barplot(x=\"Value\", y=\"Feature\", data=feature_importance.sort_values(by=\"Value\", ascending=False))\n",
    "plt.title('XGBoost Features FE Small Train - model_v22')\n",
    "plt.tight_layout()"
   ]
  },
  {
   "cell_type": "code",
   "execution_count": 54,
   "metadata": {},
   "outputs": [
    {
     "data": {
      "text/plain": [
       "['model_v12_fe.pkl']"
      ]
     },
     "execution_count": 54,
     "metadata": {},
     "output_type": "execute_result"
    }
   ],
   "source": [
    "from sklearn.externals import joblib\n",
    "# Save to file in the current working directory\n",
    "joblib_file = \"model_v22_fe.pkl\"  \n",
    "joblib.dump(model_v22, joblib_file)\n",
    "\n",
    "joblib_file = \"model_v21_fe.pkl\"  \n",
    "joblib.dump(model_v21, joblib_file)\n",
    "\n",
    "joblib_file = \"model_v1_fe.pkl\"  \n",
    "joblib.dump(model_v1, joblib_file)\n",
    "\n",
    "joblib_file = \"model_v12_fe.pkl\"  \n",
    "joblib.dump(model_v12, joblib_file)\n",
    "\n",
    "# Load from file\n",
    "# joblib_model = joblib.load(joblib_file)"
   ]
  },
  {
   "cell_type": "code",
   "execution_count": null,
   "metadata": {},
   "outputs": [],
   "source": []
  }
 ],
 "metadata": {
  "kernelspec": {
   "display_name": "Python 3",
   "language": "python",
   "name": "python3"
  },
  "language_info": {
   "codemirror_mode": {
    "name": "ipython",
    "version": 3
   },
   "file_extension": ".py",
   "mimetype": "text/x-python",
   "name": "python",
   "nbconvert_exporter": "python",
   "pygments_lexer": "ipython3",
   "version": "3.6.6"
  }
 },
 "nbformat": 4,
 "nbformat_minor": 2
}
