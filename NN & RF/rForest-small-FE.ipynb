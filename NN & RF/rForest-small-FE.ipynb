{
 "cells": [
  {
   "cell_type": "code",
   "execution_count": null,
   "metadata": {},
   "outputs": [],
   "source": [
    "import os\n",
    "import gc\n",
    "import pandas as pd\n",
    "import numpy as np\n",
    "from sklearn.model_selection import train_test_split\n",
    "from sklearn import preprocessing\n",
    "from sklearn.ensemble import RandomForestRegressor\n",
    "from sklearn import metrics\n",
    "import matplotlib.pyplot as plt\n",
    "\n",
    "np.random.seed(0)\n",
    "gc.enable()"
   ]
  },
  {
   "cell_type": "code",
   "execution_count": null,
   "metadata": {},
   "outputs": [],
   "source": [
    "train = pd.read_csv(\"../data/small_train_FE.csv\")\n",
    "train = train[train['maxPlace'] > 1]"
   ]
  },
  {
   "cell_type": "code",
   "execution_count": null,
   "metadata": {},
   "outputs": [],
   "source": [
    "target = \"winPlacePerc\"\n",
    "features = list(train.columns)\n",
    "features.remove(\"Id\")\n",
    "features.remove(\"matchId\")\n",
    "features.remove(\"groupId\")\n",
    "features.remove(\"matchType\")\n",
    "\n",
    "y = np.array(train[target])\n",
    "features.remove(target)\n",
    "x = train[features]\n",
    "\n",
    "del train\n",
    "gc.collect()"
   ]
  },
  {
   "cell_type": "code",
   "execution_count": null,
   "metadata": {},
   "outputs": [],
   "source": [
    "x_train, x_val, y_train, y_val = train_test_split(x, y, test_size=.1, random_state=0)\n",
    "\n",
    "del x, y\n",
    "gc.collect()"
   ]
  },
  {
   "cell_type": "code",
   "execution_count": null,
   "metadata": {},
   "outputs": [],
   "source": [
    "ran_forest = RandomForestRegressor(n_estimators=100, n_jobs=4, random_state=0)"
   ]
  },
  {
   "cell_type": "code",
   "execution_count": null,
   "metadata": {},
   "outputs": [],
   "source": [
    "%%time\n",
    "ran_forest.fit(x_train, y_train)"
   ]
  },
  {
   "cell_type": "code",
   "execution_count": null,
   "metadata": {},
   "outputs": [],
   "source": [
    "print('Training MAE: ', metrics.mean_absolute_error(ran_forest.predict(x_train), y_train))\n",
    "print('Validation MAE: ', metrics.mean_absolute_error(ran_forest.predict(x_val), y_val))"
   ]
  },
  {
   "cell_type": "code",
   "execution_count": null,
   "metadata": {},
   "outputs": [],
   "source": [
    "feature_importance = pd.DataFrame(ran_forest.feature_importances_, index=x_train.columns, columns=['importance']).sort_values('importance', ascending=False)\n",
    "del ran_forest\n",
    "gc.collect()"
   ]
  },
  {
   "cell_type": "code",
   "execution_count": null,
   "metadata": {},
   "outputs": [],
   "source": [
    "x_values = list(range(len(feature_importance.index)))\n",
    "fig = plt.figure(figsize=(8,6))\n",
    "plt.style.use('fivethirtyeight')\n",
    "plt.bar(x_values, feature_importance['importance'])\n",
    "plt.xticks(x_values, np.array(feature_importance.index), rotation='vertical')\n",
    "plt.ylabel('Importance')\n",
    "plt.xlabel('Feature')\n",
    "plt.title('Feature Importances\\n(with feature engineering)')\n",
    "plt.tight_layout()\n",
    "plt.savefig('viz/FE_small_RF_importances.png', dpi=fig.dpi)\n",
    "plt.close()"
   ]
  },
  {
   "cell_type": "code",
   "execution_count": null,
   "metadata": {},
   "outputs": [],
   "source": [
    "# train mae: 0.0224\n",
    "# test mae: 0.0602"
   ]
  }
 ],
 "metadata": {
  "kernelspec": {
   "display_name": "Python 3",
   "language": "python",
   "name": "python3"
  },
  "language_info": {
   "codemirror_mode": {
    "name": "ipython",
    "version": 3
   },
   "file_extension": ".py",
   "mimetype": "text/x-python",
   "name": "python",
   "nbconvert_exporter": "python",
   "pygments_lexer": "ipython3",
   "version": "3.7.0"
  }
 },
 "nbformat": 4,
 "nbformat_minor": 2
}
