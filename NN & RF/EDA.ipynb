{
 "cells": [
  {
   "cell_type": "code",
   "execution_count": null,
   "metadata": {},
   "outputs": [],
   "source": [
    "import numpy as np\n",
    "import pandas as pd\n",
    "import matplotlib.pyplot as plt\n",
    "import seaborn as sns \n",
    "import warnings\n",
    "import gc\n",
    "\n",
    "gc.enable()\n",
    "pd.options.display.max_columns = 60\n",
    "pd.options.display.float_format = '{0:.2f}'.format\n",
    "\n",
    "sns.set_style('darkgrid') \n",
    "%config InlineBackend.figure_format = 'retina'\n",
    "%matplotlib inline"
   ]
  },
  {
   "cell_type": "code",
   "execution_count": null,
   "metadata": {},
   "outputs": [],
   "source": [
    "train = pd.read_csv('../data/train_V2.csv')"
   ]
  },
  {
   "cell_type": "code",
   "execution_count": null,
   "metadata": {},
   "outputs": [],
   "source": [
    "fig = plt.figure()\n",
    "f,ax = plt.subplots(figsize=(15, 15))\n",
    "sns.heatmap(train.corr(), annot=True, linewidths=.5, fmt= '.1f',ax=ax)\n",
    "plt.savefig(\"viz/COR.png\", dpi=fig.dpi)\n",
    "plt.close()"
   ]
  },
  {
   "cell_type": "code",
   "execution_count": null,
   "metadata": {},
   "outputs": [],
   "source": [
    "fig = plt.figure()\n",
    "data = train.copy()\n",
    "data.loc[data['kills'] > data['kills'].quantile(0.99)] = '8+'\n",
    "plt.figure(figsize=(15,10))\n",
    "sns.countplot(data['kills'].astype('str').sort_values())\n",
    "plt.title(\"Kill Count\",fontsize=15)\n",
    "plt.tight_layout()\n",
    "plt.savefig(\"viz/kill_count.png\", dpi=fig.dpi)\n",
    "plt.close()\n",
    "\n",
    "del data\n",
    "gc.collect()"
   ]
  },
  {
   "cell_type": "code",
   "execution_count": null,
   "metadata": {},
   "outputs": [],
   "source": [
    "fig = plt.figure()\n",
    "data = train.copy()\n",
    "data = data[data['walkDistance'] < train['walkDistance'].quantile(0.99)]\n",
    "plt.figure(figsize=(15,10))\n",
    "plt.title(\"Walking Distance Distribution\",fontsize=15)\n",
    "sns.distplot(data['walkDistance'], color='indigo')\n",
    "plt.savefig(\"viz/walk_dist.png\", dpi=fig.dpi)\n",
    "plt.close()\n",
    "\n",
    "del data\n",
    "gc.collect()"
   ]
  },
  {
   "cell_type": "code",
   "execution_count": null,
   "metadata": {},
   "outputs": [],
   "source": [
    "fig = plt.figure(figsize=(18,10))\n",
    "sns.jointplot(x=\"winPlacePerc\", y=\"kills\",  data=train, height=10, ratio=3, color=\"darkred\")\n",
    "plt.tight_layout()\n",
    "plt.savefig(\"viz/kills_vs_winplace.png\", dpi=fig.dpi)\n",
    "plt.close()"
   ]
  },
  {
   "cell_type": "code",
   "execution_count": null,
   "metadata": {},
   "outputs": [],
   "source": [
    "fig = plt.figure(figsize=(18,10))\n",
    "sns.jointplot(x=\"winPlacePerc\", y=\"walkDistance\",  data=train, height=10, ratio=3, color=\"darkorange\")\n",
    "plt.tight_layout()\n",
    "plt.savefig(\"viz/walk_vs_winplace.png\", dpi=fig.dpi)\n",
    "plt.close()"
   ]
  }
 ],
 "metadata": {
  "kernelspec": {
   "display_name": "Python 3",
   "language": "python",
   "name": "python3"
  },
  "language_info": {
   "codemirror_mode": {
    "name": "ipython",
    "version": 3
   },
   "file_extension": ".py",
   "mimetype": "text/x-python",
   "name": "python",
   "nbconvert_exporter": "python",
   "pygments_lexer": "ipython3",
   "version": "3.7.0"
  }
 },
 "nbformat": 4,
 "nbformat_minor": 2
}
